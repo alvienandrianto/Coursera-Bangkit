{
 "cells": [
  {
   "cell_type": "markdown",
   "id": "7fa19ee6",
   "metadata": {},
   "source": [
    "# PCA - An example on Exploratory Data Analysis\n",
    "\n",
    "In this notebook you will:\n",
    "\n",
    "- Replicate Andrew's example on PCA\n",
    "- Visualize how PCA works on a 2-dimensional small dataset and that not every projection is \"good\"\n",
    "- Visualize how a 3-dimensional data can also be contained in a 2-dimensional subspace\n",
    "- Use PCA to find hidden patterns in a high-dimensional dataset"
   ]
  },
  {
   "cell_type": "markdown",
   "id": "8f7908b2",
   "metadata": {},
   "source": [
    "## Importing the libraries"
   ]
  },
  {
   "cell_type": "code",
   "execution_count": 1,
   "id": "1a7b0864",
   "metadata": {},
   "outputs": [],
   "source": [
    "import pandas as pd\n",
    "import numpy as np\n",
    "from sklearn.decomposition import PCA\n",
    "from pca_utils import plot_widget\n",
    "from bokeh.io import show, output_notebook\n",
    "from bokeh.plotting import figure\n",
    "import matplotlib.pyplot as plt\n",
    "import plotly.offline as py"
   ]
  },
  {
   "cell_type": "code",
   "execution_count": 2,
   "id": "3b28d534",
   "metadata": {},
   "outputs": [],
   "source": [
    "py.init_notebook_mode()"
   ]
  },
  {
   "cell_type": "code",
   "execution_count": 4,
   "id": "61ce6848",
   "metadata": {},
   "outputs": [
    {
     "data": {
      "text/html": [
       "<div class=\"bk-root\">\n",
       "        <a href=\"https://bokeh.org\" target=\"_blank\" class=\"bk-logo bk-logo-small bk-logo-notebook\"></a>\n",
       "        <span id=\"1003\">Loading BokehJS ...</span>\n",
       "    </div>\n"
      ]
     },
     "metadata": {},
     "output_type": "display_data"
    },
    {
     "data": {
      "application/javascript": [
       "(function(root) {\n",
       "  function now() {\n",
       "    return new Date();\n",
       "  }\n",
       "\n",
       "  const force = true;\n",
       "\n",
       "  if (typeof root._bokeh_onload_callbacks === \"undefined\" || force === true) {\n",
       "    root._bokeh_onload_callbacks = [];\n",
       "    root._bokeh_is_loading = undefined;\n",
       "  }\n",
       "\n",
       "const JS_MIME_TYPE = 'application/javascript';\n",
       "  const HTML_MIME_TYPE = 'text/html';\n",
       "  const EXEC_MIME_TYPE = 'application/vnd.bokehjs_exec.v0+json';\n",
       "  const CLASS_NAME = 'output_bokeh rendered_html';\n",
       "\n",
       "  /**\n",
       "   * Render data to the DOM node\n",
       "   */\n",
       "  function render(props, node) {\n",
       "    const script = document.createElement(\"script\");\n",
       "    node.appendChild(script);\n",
       "  }\n",
       "\n",
       "  /**\n",
       "   * Handle when an output is cleared or removed\n",
       "   */\n",
       "  function handleClearOutput(event, handle) {\n",
       "    const cell = handle.cell;\n",
       "\n",
       "    const id = cell.output_area._bokeh_element_id;\n",
       "    const server_id = cell.output_area._bokeh_server_id;\n",
       "    // Clean up Bokeh references\n",
       "    if (id != null && id in Bokeh.index) {\n",
       "      Bokeh.index[id].model.document.clear();\n",
       "      delete Bokeh.index[id];\n",
       "    }\n",
       "\n",
       "    if (server_id !== undefined) {\n",
       "      // Clean up Bokeh references\n",
       "      const cmd_clean = \"from bokeh.io.state import curstate; print(curstate().uuid_to_server['\" + server_id + \"'].get_sessions()[0].document.roots[0]._id)\";\n",
       "      cell.notebook.kernel.execute(cmd_clean, {\n",
       "        iopub: {\n",
       "          output: function(msg) {\n",
       "            const id = msg.content.text.trim();\n",
       "            if (id in Bokeh.index) {\n",
       "              Bokeh.index[id].model.document.clear();\n",
       "              delete Bokeh.index[id];\n",
       "            }\n",
       "          }\n",
       "        }\n",
       "      });\n",
       "      // Destroy server and session\n",
       "      const cmd_destroy = \"import bokeh.io.notebook as ion; ion.destroy_server('\" + server_id + \"')\";\n",
       "      cell.notebook.kernel.execute(cmd_destroy);\n",
       "    }\n",
       "  }\n",
       "\n",
       "  /**\n",
       "   * Handle when a new output is added\n",
       "   */\n",
       "  function handleAddOutput(event, handle) {\n",
       "    const output_area = handle.output_area;\n",
       "    const output = handle.output;\n",
       "\n",
       "    // limit handleAddOutput to display_data with EXEC_MIME_TYPE content only\n",
       "    if ((output.output_type != \"display_data\") || (!Object.prototype.hasOwnProperty.call(output.data, EXEC_MIME_TYPE))) {\n",
       "      return\n",
       "    }\n",
       "\n",
       "    const toinsert = output_area.element.find(\".\" + CLASS_NAME.split(' ')[0]);\n",
       "\n",
       "    if (output.metadata[EXEC_MIME_TYPE][\"id\"] !== undefined) {\n",
       "      toinsert[toinsert.length - 1].firstChild.textContent = output.data[JS_MIME_TYPE];\n",
       "      // store reference to embed id on output_area\n",
       "      output_area._bokeh_element_id = output.metadata[EXEC_MIME_TYPE][\"id\"];\n",
       "    }\n",
       "    if (output.metadata[EXEC_MIME_TYPE][\"server_id\"] !== undefined) {\n",
       "      const bk_div = document.createElement(\"div\");\n",
       "      bk_div.innerHTML = output.data[HTML_MIME_TYPE];\n",
       "      const script_attrs = bk_div.children[0].attributes;\n",
       "      for (let i = 0; i < script_attrs.length; i++) {\n",
       "        toinsert[toinsert.length - 1].firstChild.setAttribute(script_attrs[i].name, script_attrs[i].value);\n",
       "        toinsert[toinsert.length - 1].firstChild.textContent = bk_div.children[0].textContent\n",
       "      }\n",
       "      // store reference to server id on output_area\n",
       "      output_area._bokeh_server_id = output.metadata[EXEC_MIME_TYPE][\"server_id\"];\n",
       "    }\n",
       "  }\n",
       "\n",
       "  function register_renderer(events, OutputArea) {\n",
       "\n",
       "    function append_mime(data, metadata, element) {\n",
       "      // create a DOM node to render to\n",
       "      const toinsert = this.create_output_subarea(\n",
       "        metadata,\n",
       "        CLASS_NAME,\n",
       "        EXEC_MIME_TYPE\n",
       "      );\n",
       "      this.keyboard_manager.register_events(toinsert);\n",
       "      // Render to node\n",
       "      const props = {data: data, metadata: metadata[EXEC_MIME_TYPE]};\n",
       "      render(props, toinsert[toinsert.length - 1]);\n",
       "      element.append(toinsert);\n",
       "      return toinsert\n",
       "    }\n",
       "\n",
       "    /* Handle when an output is cleared or removed */\n",
       "    events.on('clear_output.CodeCell', handleClearOutput);\n",
       "    events.on('delete.Cell', handleClearOutput);\n",
       "\n",
       "    /* Handle when a new output is added */\n",
       "    events.on('output_added.OutputArea', handleAddOutput);\n",
       "\n",
       "    /**\n",
       "     * Register the mime type and append_mime function with output_area\n",
       "     */\n",
       "    OutputArea.prototype.register_mime_type(EXEC_MIME_TYPE, append_mime, {\n",
       "      /* Is output safe? */\n",
       "      safe: true,\n",
       "      /* Index of renderer in `output_area.display_order` */\n",
       "      index: 0\n",
       "    });\n",
       "  }\n",
       "\n",
       "  // register the mime type if in Jupyter Notebook environment and previously unregistered\n",
       "  if (root.Jupyter !== undefined) {\n",
       "    const events = require('base/js/events');\n",
       "    const OutputArea = require('notebook/js/outputarea').OutputArea;\n",
       "\n",
       "    if (OutputArea.prototype.mime_types().indexOf(EXEC_MIME_TYPE) == -1) {\n",
       "      register_renderer(events, OutputArea);\n",
       "    }\n",
       "  }\n",
       "  if (typeof (root._bokeh_timeout) === \"undefined\" || force === true) {\n",
       "    root._bokeh_timeout = Date.now() + 5000;\n",
       "    root._bokeh_failed_load = false;\n",
       "  }\n",
       "\n",
       "  const NB_LOAD_WARNING = {'data': {'text/html':\n",
       "     \"<div style='background-color: #fdd'>\\n\"+\n",
       "     \"<p>\\n\"+\n",
       "     \"BokehJS does not appear to have successfully loaded. If loading BokehJS from CDN, this \\n\"+\n",
       "     \"may be due to a slow or bad network connection. Possible fixes:\\n\"+\n",
       "     \"</p>\\n\"+\n",
       "     \"<ul>\\n\"+\n",
       "     \"<li>re-rerun `output_notebook()` to attempt to load from CDN again, or</li>\\n\"+\n",
       "     \"<li>use INLINE resources instead, as so:</li>\\n\"+\n",
       "     \"</ul>\\n\"+\n",
       "     \"<code>\\n\"+\n",
       "     \"from bokeh.resources import INLINE\\n\"+\n",
       "     \"output_notebook(resources=INLINE)\\n\"+\n",
       "     \"</code>\\n\"+\n",
       "     \"</div>\"}};\n",
       "\n",
       "  function display_loaded() {\n",
       "    const el = document.getElementById(\"1003\");\n",
       "    if (el != null) {\n",
       "      el.textContent = \"BokehJS is loading...\";\n",
       "    }\n",
       "    if (root.Bokeh !== undefined) {\n",
       "      if (el != null) {\n",
       "        el.textContent = \"BokehJS \" + root.Bokeh.version + \" successfully loaded.\";\n",
       "      }\n",
       "    } else if (Date.now() < root._bokeh_timeout) {\n",
       "      setTimeout(display_loaded, 100)\n",
       "    }\n",
       "  }\n",
       "\n",
       "  function run_callbacks() {\n",
       "    try {\n",
       "      root._bokeh_onload_callbacks.forEach(function(callback) {\n",
       "        if (callback != null)\n",
       "          callback();\n",
       "      });\n",
       "    } finally {\n",
       "      delete root._bokeh_onload_callbacks\n",
       "    }\n",
       "    console.debug(\"Bokeh: all callbacks have finished\");\n",
       "  }\n",
       "\n",
       "  function load_libs(css_urls, js_urls, callback) {\n",
       "    if (css_urls == null) css_urls = [];\n",
       "    if (js_urls == null) js_urls = [];\n",
       "\n",
       "    root._bokeh_onload_callbacks.push(callback);\n",
       "    if (root._bokeh_is_loading > 0) {\n",
       "      console.debug(\"Bokeh: BokehJS is being loaded, scheduling callback at\", now());\n",
       "      return null;\n",
       "    }\n",
       "    if (js_urls == null || js_urls.length === 0) {\n",
       "      run_callbacks();\n",
       "      return null;\n",
       "    }\n",
       "    console.debug(\"Bokeh: BokehJS not loaded, scheduling load and callback at\", now());\n",
       "    root._bokeh_is_loading = css_urls.length + js_urls.length;\n",
       "\n",
       "    function on_load() {\n",
       "      root._bokeh_is_loading--;\n",
       "      if (root._bokeh_is_loading === 0) {\n",
       "        console.debug(\"Bokeh: all BokehJS libraries/stylesheets loaded\");\n",
       "        run_callbacks()\n",
       "      }\n",
       "    }\n",
       "\n",
       "    function on_error(url) {\n",
       "      console.error(\"failed to load \" + url);\n",
       "    }\n",
       "\n",
       "    for (let i = 0; i < css_urls.length; i++) {\n",
       "      const url = css_urls[i];\n",
       "      const element = document.createElement(\"link\");\n",
       "      element.onload = on_load;\n",
       "      element.onerror = on_error.bind(null, url);\n",
       "      element.rel = \"stylesheet\";\n",
       "      element.type = \"text/css\";\n",
       "      element.href = url;\n",
       "      console.debug(\"Bokeh: injecting link tag for BokehJS stylesheet: \", url);\n",
       "      document.body.appendChild(element);\n",
       "    }\n",
       "\n",
       "    for (let i = 0; i < js_urls.length; i++) {\n",
       "      const url = js_urls[i];\n",
       "      const element = document.createElement('script');\n",
       "      element.onload = on_load;\n",
       "      element.onerror = on_error.bind(null, url);\n",
       "      element.async = false;\n",
       "      element.src = url;\n",
       "      console.debug(\"Bokeh: injecting script tag for BokehJS library: \", url);\n",
       "      document.head.appendChild(element);\n",
       "    }\n",
       "  };\n",
       "\n",
       "  function inject_raw_css(css) {\n",
       "    const element = document.createElement(\"style\");\n",
       "    element.appendChild(document.createTextNode(css));\n",
       "    document.body.appendChild(element);\n",
       "  }\n",
       "\n",
       "  const js_urls = [\"https://cdn.bokeh.org/bokeh/release/bokeh-2.4.3.min.js\", \"https://cdn.bokeh.org/bokeh/release/bokeh-gl-2.4.3.min.js\", \"https://cdn.bokeh.org/bokeh/release/bokeh-widgets-2.4.3.min.js\", \"https://cdn.bokeh.org/bokeh/release/bokeh-tables-2.4.3.min.js\", \"https://cdn.bokeh.org/bokeh/release/bokeh-mathjax-2.4.3.min.js\"];\n",
       "  const css_urls = [];\n",
       "\n",
       "  const inline_js = [    function(Bokeh) {\n",
       "      Bokeh.set_log_level(\"info\");\n",
       "    },\n",
       "function(Bokeh) {\n",
       "    }\n",
       "  ];\n",
       "\n",
       "  function run_inline_js() {\n",
       "    if (root.Bokeh !== undefined || force === true) {\n",
       "          for (let i = 0; i < inline_js.length; i++) {\n",
       "      inline_js[i].call(root, root.Bokeh);\n",
       "    }\n",
       "if (force === true) {\n",
       "        display_loaded();\n",
       "      }} else if (Date.now() < root._bokeh_timeout) {\n",
       "      setTimeout(run_inline_js, 100);\n",
       "    } else if (!root._bokeh_failed_load) {\n",
       "      console.log(\"Bokeh: BokehJS failed to load within specified timeout.\");\n",
       "      root._bokeh_failed_load = true;\n",
       "    } else if (force !== true) {\n",
       "      const cell = $(document.getElementById(\"1003\")).parents('.cell').data().cell;\n",
       "      cell.output_area.append_execute_result(NB_LOAD_WARNING)\n",
       "    }\n",
       "  }\n",
       "\n",
       "  if (root._bokeh_is_loading === 0) {\n",
       "    console.debug(\"Bokeh: BokehJS loaded, going straight to plotting\");\n",
       "    run_inline_js();\n",
       "  } else {\n",
       "    load_libs(css_urls, js_urls, function() {\n",
       "      console.debug(\"Bokeh: BokehJS plotting callback run at\", now());\n",
       "      run_inline_js();\n",
       "    });\n",
       "  }\n",
       "}(window));"
      ],
      "application/vnd.bokehjs_load.v0+json": "(function(root) {\n  function now() {\n    return new Date();\n  }\n\n  const force = true;\n\n  if (typeof root._bokeh_onload_callbacks === \"undefined\" || force === true) {\n    root._bokeh_onload_callbacks = [];\n    root._bokeh_is_loading = undefined;\n  }\n\n\n  if (typeof (root._bokeh_timeout) === \"undefined\" || force === true) {\n    root._bokeh_timeout = Date.now() + 5000;\n    root._bokeh_failed_load = false;\n  }\n\n  const NB_LOAD_WARNING = {'data': {'text/html':\n     \"<div style='background-color: #fdd'>\\n\"+\n     \"<p>\\n\"+\n     \"BokehJS does not appear to have successfully loaded. If loading BokehJS from CDN, this \\n\"+\n     \"may be due to a slow or bad network connection. Possible fixes:\\n\"+\n     \"</p>\\n\"+\n     \"<ul>\\n\"+\n     \"<li>re-rerun `output_notebook()` to attempt to load from CDN again, or</li>\\n\"+\n     \"<li>use INLINE resources instead, as so:</li>\\n\"+\n     \"</ul>\\n\"+\n     \"<code>\\n\"+\n     \"from bokeh.resources import INLINE\\n\"+\n     \"output_notebook(resources=INLINE)\\n\"+\n     \"</code>\\n\"+\n     \"</div>\"}};\n\n  function display_loaded() {\n    const el = document.getElementById(\"1003\");\n    if (el != null) {\n      el.textContent = \"BokehJS is loading...\";\n    }\n    if (root.Bokeh !== undefined) {\n      if (el != null) {\n        el.textContent = \"BokehJS \" + root.Bokeh.version + \" successfully loaded.\";\n      }\n    } else if (Date.now() < root._bokeh_timeout) {\n      setTimeout(display_loaded, 100)\n    }\n  }\n\n  function run_callbacks() {\n    try {\n      root._bokeh_onload_callbacks.forEach(function(callback) {\n        if (callback != null)\n          callback();\n      });\n    } finally {\n      delete root._bokeh_onload_callbacks\n    }\n    console.debug(\"Bokeh: all callbacks have finished\");\n  }\n\n  function load_libs(css_urls, js_urls, callback) {\n    if (css_urls == null) css_urls = [];\n    if (js_urls == null) js_urls = [];\n\n    root._bokeh_onload_callbacks.push(callback);\n    if (root._bokeh_is_loading > 0) {\n      console.debug(\"Bokeh: BokehJS is being loaded, scheduling callback at\", now());\n      return null;\n    }\n    if (js_urls == null || js_urls.length === 0) {\n      run_callbacks();\n      return null;\n    }\n    console.debug(\"Bokeh: BokehJS not loaded, scheduling load and callback at\", now());\n    root._bokeh_is_loading = css_urls.length + js_urls.length;\n\n    function on_load() {\n      root._bokeh_is_loading--;\n      if (root._bokeh_is_loading === 0) {\n        console.debug(\"Bokeh: all BokehJS libraries/stylesheets loaded\");\n        run_callbacks()\n      }\n    }\n\n    function on_error(url) {\n      console.error(\"failed to load \" + url);\n    }\n\n    for (let i = 0; i < css_urls.length; i++) {\n      const url = css_urls[i];\n      const element = document.createElement(\"link\");\n      element.onload = on_load;\n      element.onerror = on_error.bind(null, url);\n      element.rel = \"stylesheet\";\n      element.type = \"text/css\";\n      element.href = url;\n      console.debug(\"Bokeh: injecting link tag for BokehJS stylesheet: \", url);\n      document.body.appendChild(element);\n    }\n\n    for (let i = 0; i < js_urls.length; i++) {\n      const url = js_urls[i];\n      const element = document.createElement('script');\n      element.onload = on_load;\n      element.onerror = on_error.bind(null, url);\n      element.async = false;\n      element.src = url;\n      console.debug(\"Bokeh: injecting script tag for BokehJS library: \", url);\n      document.head.appendChild(element);\n    }\n  };\n\n  function inject_raw_css(css) {\n    const element = document.createElement(\"style\");\n    element.appendChild(document.createTextNode(css));\n    document.body.appendChild(element);\n  }\n\n  const js_urls = [\"https://cdn.bokeh.org/bokeh/release/bokeh-2.4.3.min.js\", \"https://cdn.bokeh.org/bokeh/release/bokeh-gl-2.4.3.min.js\", \"https://cdn.bokeh.org/bokeh/release/bokeh-widgets-2.4.3.min.js\", \"https://cdn.bokeh.org/bokeh/release/bokeh-tables-2.4.3.min.js\", \"https://cdn.bokeh.org/bokeh/release/bokeh-mathjax-2.4.3.min.js\"];\n  const css_urls = [];\n\n  const inline_js = [    function(Bokeh) {\n      Bokeh.set_log_level(\"info\");\n    },\nfunction(Bokeh) {\n    }\n  ];\n\n  function run_inline_js() {\n    if (root.Bokeh !== undefined || force === true) {\n          for (let i = 0; i < inline_js.length; i++) {\n      inline_js[i].call(root, root.Bokeh);\n    }\nif (force === true) {\n        display_loaded();\n      }} else if (Date.now() < root._bokeh_timeout) {\n      setTimeout(run_inline_js, 100);\n    } else if (!root._bokeh_failed_load) {\n      console.log(\"Bokeh: BokehJS failed to load within specified timeout.\");\n      root._bokeh_failed_load = true;\n    } else if (force !== true) {\n      const cell = $(document.getElementById(\"1003\")).parents('.cell').data().cell;\n      cell.output_area.append_execute_result(NB_LOAD_WARNING)\n    }\n  }\n\n  if (root._bokeh_is_loading === 0) {\n    console.debug(\"Bokeh: BokehJS loaded, going straight to plotting\");\n    run_inline_js();\n  } else {\n    load_libs(css_urls, js_urls, function() {\n      console.debug(\"Bokeh: BokehJS plotting callback run at\", now());\n      run_inline_js();\n    });\n  }\n}(window));"
     },
     "metadata": {},
     "output_type": "display_data"
    }
   ],
   "source": [
    "output_notebook()"
   ]
  },
  {
   "cell_type": "markdown",
   "id": "dec0fa33",
   "metadata": {},
   "source": [
    "## Lecture Example\n",
    "\n",
    "We are going work on the same example that Andrew has shown in the lecture."
   ]
  },
  {
   "cell_type": "code",
   "execution_count": 5,
   "id": "08c5f166",
   "metadata": {},
   "outputs": [],
   "source": [
    "X = np.array([[ 99,  -1],\n",
    "       [ 98,  -1],\n",
    "       [ 97,  -2],\n",
    "       [101,   1],\n",
    "       [102,   1],\n",
    "       [103,   2]])"
   ]
  },
  {
   "cell_type": "code",
   "execution_count": 6,
   "id": "d45b51d3",
   "metadata": {},
   "outputs": [
    {
     "data": {
      "text/plain": [
       "[<matplotlib.lines.Line2D at 0x7079706879d0>]"
      ]
     },
     "execution_count": 6,
     "metadata": {},
     "output_type": "execute_result"
    },
    {
     "data": {
      "image/png": "[encoded data removed]",
      "text/plain": [
       "<Figure size 640x480 with 1 Axes>"
      ]
     },
     "metadata": {},
     "output_type": "display_data"
    }
   ],
   "source": [
    "plt.plot(X[:,0], X[:,1], 'ro')"
   ]
  },
  {
   "cell_type": "code",
   "execution_count": 7,
   "id": "2f8a9d5d",
   "metadata": {},
   "outputs": [
    {
     "data": {
      "text/plain": [
       "PCA(n_components=2)"
      ]
     },
     "execution_count": 7,
     "metadata": {},
     "output_type": "execute_result"
    }
   ],
   "source": [
    "# Loading the PCA algorithm\n",
    "pca_2 = PCA(n_components=2)\n",
    "pca_2"
   ]
  },
  {
   "cell_type": "code",
   "execution_count": 8,
   "id": "d4e0e4a7",
   "metadata": {},
   "outputs": [
    {
     "data": {
      "text/plain": [
       "PCA(n_components=2)"
      ]
     },
     "execution_count": 8,
     "metadata": {},
     "output_type": "execute_result"
    }
   ],
   "source": [
    "# Let's fit the data. We do not need to scale it, since sklearn's implementation already handles it.\n",
    "pca_2.fit(X)"
   ]
  },
  {
   "cell_type": "code",
   "execution_count": 9,
   "id": "5701428a",
   "metadata": {},
   "outputs": [
    {
     "data": {
      "text/plain": [
       "array([0.99244289, 0.00755711])"
      ]
     },
     "execution_count": 9,
     "metadata": {},
     "output_type": "execute_result"
    }
   ],
   "source": [
    "pca_2.explained_variance_ratio_"
   ]
  },
  {
   "cell_type": "markdown",
   "id": "dcc964ba",
   "metadata": {},
   "source": [
    "The coordinates on the first principal component (first axis) are enough to retain 99.24% of the information (\"explained variance\").  The second principal component adds an additional 0.76% of the information (\"explained variance\") that is not stored in the first principal component coordinates."
   ]
  },
  {
   "cell_type": "code",
   "execution_count": 10,
   "id": "f3b6455c",
   "metadata": {},
   "outputs": [
    {
     "data": {
      "text/plain": [
       "array([[ 1.38340578,  0.2935787 ],\n",
       "       [ 2.22189802, -0.25133484],\n",
       "       [ 3.6053038 ,  0.04224385],\n",
       "       [-1.38340578, -0.2935787 ],\n",
       "       [-2.22189802,  0.25133484],\n",
       "       [-3.6053038 , -0.04224385]])"
      ]
     },
     "execution_count": 10,
     "metadata": {},
     "output_type": "execute_result"
    }
   ],
   "source": [
    "X_trans_2 = pca_2.transform(X)\n",
    "X_trans_2"
   ]
  },
  {
   "cell_type": "markdown",
   "id": "d1771a36",
   "metadata": {},
   "source": [
    "Think of column 1 as the coordinate along the first principal component (the first new axis) and column 2 as the coordinate along the second principal component (the second new axis).\n",
    "\n",
    "You can probably just choose the first principal component since it retains 99% of the information (explained variance)."
   ]
  },
  {
   "cell_type": "code",
   "execution_count": 11,
   "id": "fc5e7335",
   "metadata": {},
   "outputs": [
    {
     "data": {
      "text/plain": [
       "PCA(n_components=1)"
      ]
     },
     "execution_count": 11,
     "metadata": {},
     "output_type": "execute_result"
    }
   ],
   "source": [
    "pca_1 = PCA(n_components=1)\n",
    "pca_1"
   ]
  },
  {
   "cell_type": "code",
   "execution_count": 12,
   "id": "61054f68",
   "metadata": {},
   "outputs": [
    {
     "data": {
      "text/plain": [
       "array([0.99244289])"
      ]
     },
     "execution_count": 12,
     "metadata": {},
     "output_type": "execute_result"
    }
   ],
   "source": [
    "pca_1.fit(X)\n",
    "pca_1.explained_variance_ratio_"
   ]
  },
  {
   "cell_type": "code",
   "execution_count": 13,
   "id": "cf898e90",
   "metadata": {},
   "outputs": [
    {
     "data": {
      "text/plain": [
       "array([[ 1.38340578],\n",
       "       [ 2.22189802],\n",
       "       [ 3.6053038 ],\n",
       "       [-1.38340578],\n",
       "       [-2.22189802],\n",
       "       [-3.6053038 ]])"
      ]
     },
     "execution_count": 13,
     "metadata": {},
     "output_type": "execute_result"
    }
   ],
   "source": [
    "X_trans_1 = pca_1.transform(X)\n",
    "X_trans_1"
   ]
  },
  {
   "cell_type": "markdown",
   "id": "5f750a0d",
   "metadata": {},
   "source": [
    "Notice how this column is just the first column of `X_trans_2`."
   ]
  },
  {
   "cell_type": "markdown",
   "id": "1f4bfa8b",
   "metadata": {},
   "source": [
    "If you had 2 features (two columns of data) and choose 2 principal components, then you'll keep all the information and the data will end up the same as the original."
   ]
  },
  {
   "cell_type": "code",
   "execution_count": 14,
   "id": "79289f34",
   "metadata": {},
   "outputs": [
    {
     "data": {
      "text/plain": [
       "array([[ 99.,  -1.],\n",
       "       [ 98.,  -1.],\n",
       "       [ 97.,  -2.],\n",
       "       [101.,   1.],\n",
       "       [102.,   1.],\n",
       "       [103.,   2.]])"
      ]
     },
     "execution_count": 14,
     "metadata": {},
     "output_type": "execute_result"
    }
   ],
   "source": [
    "X_reduced_2 = pca_2.inverse_transform(X_trans_2)\n",
    "X_reduced_2"
   ]
  },
  {
   "cell_type": "code",
   "execution_count": 15,
   "id": "e64d79ff",
   "metadata": {},
   "outputs": [
    {
     "data": {
      "text/plain": [
       "[<matplotlib.lines.Line2D at 0x707970538790>]"
      ]
     },
     "execution_count": 15,
     "metadata": {},
     "output_type": "execute_result"
    },
    {
     "data": {
      "image/png": "[encoded data removed]",
      "text/plain": [
       "<Figure size 640x480 with 1 Axes>"
      ]
     },
     "metadata": {},
     "output_type": "display_data"
    }
   ],
   "source": [
    "plt.plot(X_reduced_2[:,0], X_reduced_2[:,1], 'ro')"
   ]
  },
  {
   "cell_type": "markdown",
   "id": "9b27e810",
   "metadata": {},
   "source": [
    "Reduce to 1 dimension instead of 2"
   ]
  },
  {
   "cell_type": "code",
   "execution_count": 16,
   "id": "d5c426c8",
   "metadata": {},
   "outputs": [
    {
     "data": {
      "text/plain": [
       "array([[ 98.84002499,  -0.75383654],\n",
       "       [ 98.13695576,  -1.21074232],\n",
       "       [ 96.97698075,  -1.96457886],\n",
       "       [101.15997501,   0.75383654],\n",
       "       [101.86304424,   1.21074232],\n",
       "       [103.02301925,   1.96457886]])"
      ]
     },
     "execution_count": 16,
     "metadata": {},
     "output_type": "execute_result"
    }
   ],
   "source": [
    "X_reduced_1 = pca_1.inverse_transform(X_trans_1)\n",
    "X_reduced_1"
   ]
  },
  {
   "cell_type": "code",
   "execution_count": 17,
   "id": "35ab1633",
   "metadata": {},
   "outputs": [
    {
     "data": {
      "text/plain": [
       "[<matplotlib.lines.Line2D at 0x7079704ccd50>]"
      ]
     },
     "execution_count": 17,
     "metadata": {},
     "output_type": "execute_result"
    },
    {
     "data": {
      "image/png": "[encoded data removed]",
      "text/plain": [
       "<Figure size 640x480 with 1 Axes>"
      ]
     },
     "metadata": {},
     "output_type": "display_data"
    }
   ],
   "source": [
    "plt.plot(X_reduced_1[:,0], X_reduced_1[:,1], 'ro')"
   ]
  },
  {
   "cell_type": "markdown",
   "id": "61b5fe66",
   "metadata": {},
   "source": [
    "Notice how the data are now just on a single line (this line is the single principal component that was used to describe the data; and each example had a single \"coordinate\" along that axis to describe its location."
   ]
  },
  {
   "cell_type": "markdown",
   "id": "01212aad",
   "metadata": {},
   "source": [
    "## Visualizing the PCA algorithm\n",
    "\n",
    "Let's define $10$ points in the plane and use them as an example to visualize how we can compress this points in 1 dimension. You will see that there are good ways and bad ways."
   ]
  },
  {
   "cell_type": "code",
   "execution_count": 18,
   "id": "0e53e20f",
   "metadata": {},
   "outputs": [],
   "source": [
    "X = np.array([[-0.83934975, -0.21160323],\n",
    "       [ 0.67508491,  0.25113527],\n",
    "       [-0.05495253,  0.36339613],\n",
    "       [-0.57524042,  0.24450324],\n",
    "       [ 0.58468572,  0.95337657],\n",
    "       [ 0.5663363 ,  0.07555096],\n",
    "       [-0.50228538, -0.65749982],\n",
    "       [-0.14075593,  0.02713815],\n",
    "       [ 0.2587186 , -0.26890678],\n",
    "       [ 0.02775847, -0.77709049]])"
   ]
  },
  {
   "cell_type": "code",
   "execution_count": 19,
   "id": "c218bdd4",
   "metadata": {},
   "outputs": [
    {
     "data": {
      "text/html": [
       "\n",
       "  <div class=\"bk-root\" id=\"798d55cd-7088-4f04-875e-b3dbea6b7db9\" data-root-id=\"1004\"></div>\n"
      ]
     },
     "metadata": {},
     "output_type": "display_data"
    },
    {
     "data": {
      "application/javascript": [
       "(function(root) {\n",
       "  function embed_document(root) {\n",
       "  const docs_json = {\"b5c63209-4c40-4cd3-b896-4f42a1429926\":{\"defs\":[],\"roots\":{\"references\":[{\"attributes\":{\"below\":[{\"id\":\"1015\"}],\"center\":[{\"id\":\"1018\"},{\"id\":\"1022\"}],\"left\":[{\"id\":\"1019\"}],\"outline_line_color\":null,\"renderers\":[{\"id\":\"1041\"}],\"title\":{\"id\":\"1005\"},\"toolbar\":{\"id\":\"1030\"},\"toolbar_location\":null,\"x_range\":{\"id\":\"1007\"},\"x_scale\":{\"id\":\"1011\"},\"y_range\":{\"id\":\"1009\"},\"y_scale\":{\"id\":\"1013\"}},\"id\":\"1004\",\"subtype\":\"Figure\",\"type\":\"Plot\"},{\"attributes\":{\"axis_label\":\"y-axis\",\"axis_line_color\":\"#f0f0f0\",\"axis_line_width\":5,\"coordinates\":null,\"formatter\":{\"id\":\"1046\"},\"group\":null,\"major_label_policy\":{\"id\":\"1047\"},\"ticker\":{\"id\":\"1020\"}},\"id\":\"1019\",\"type\":\"LinearAxis\"},{\"attributes\":{\"coordinates\":null,\"data_source\":{\"id\":\"1037\"},\"glyph\":{\"id\":\"1038\"},\"group\":null,\"hover_glyph\":null,\"muted_glyph\":{\"id\":\"1040\"},\"nonselection_glyph\":{\"id\":\"1039\"},\"view\":{\"id\":\"1042\"}},\"id\":\"1041\",\"type\":\"GlyphRenderer\"},{\"attributes\":{\"bottom_units\":\"screen\",\"coordinates\":null,\"fill_alpha\":0.5,\"fill_color\":\"lightgrey\",\"group\":null,\"left_units\":\"screen\",\"level\":\"overlay\",\"line_alpha\":1.0,\"line_color\":\"black\",\"line_dash\":[4,4],\"line_width\":2,\"right_units\":\"screen\",\"syncable\":false,\"top_units\":\"screen\"},\"id\":\"1029\",\"type\":\"BoxAnnotation\"},{\"attributes\":{\"axis_label\":\"x-axis\",\"axis_line_color\":\"#f0f0f0\",\"axis_line_width\":5,\"coordinates\":null,\"formatter\":{\"id\":\"1049\"},\"group\":null,\"major_label_policy\":{\"id\":\"1050\"},\"ticker\":{\"id\":\"1016\"}},\"id\":\"1015\",\"type\":\"LinearAxis\"},{\"attributes\":{},\"id\":\"1023\",\"type\":\"PanTool\"},{\"attributes\":{},\"id\":\"1051\",\"type\":\"UnionRenderers\"},{\"attributes\":{},\"id\":\"1024\",\"type\":\"WheelZoomTool\"},{\"attributes\":{},\"id\":\"1013\",\"type\":\"LinearScale\"},{\"attributes\":{\"fill_color\":{\"value\":\"#C00000\"},\"hatch_color\":{\"value\":\"#C00000\"},\"line_color\":{\"value\":\"#C00000\"},\"size\":{\"value\":5},\"x\":{\"field\":\"x\"},\"y\":{\"field\":\"y\"}},\"id\":\"1038\",\"type\":\"Scatter\"},{\"attributes\":{\"overlay\":{\"id\":\"1029\"}},\"id\":\"1025\",\"type\":\"BoxZoomTool\"},{\"attributes\":{\"fill_alpha\":{\"value\":0.1},\"fill_color\":{\"value\":\"#C00000\"},\"hatch_alpha\":{\"value\":0.1},\"hatch_color\":{\"value\":\"#C00000\"},\"line_alpha\":{\"value\":0.1},\"line_color\":{\"value\":\"#C00000\"},\"size\":{\"value\":5},\"x\":{\"field\":\"x\"},\"y\":{\"field\":\"y\"}},\"id\":\"1039\",\"type\":\"Scatter\"},{\"attributes\":{},\"id\":\"1026\",\"type\":\"SaveTool\"},{\"attributes\":{},\"id\":\"1027\",\"type\":\"ResetTool\"},{\"attributes\":{},\"id\":\"1052\",\"type\":\"Selection\"},{\"attributes\":{\"source\":{\"id\":\"1037\"}},\"id\":\"1042\",\"type\":\"CDSView\"},{\"attributes\":{},\"id\":\"1028\",\"type\":\"HelpTool\"},{\"attributes\":{},\"id\":\"1050\",\"type\":\"AllLabels\"},{\"attributes\":{},\"id\":\"1009\",\"type\":\"DataRange1d\"},{\"attributes\":{},\"id\":\"1007\",\"type\":\"DataRange1d\"},{\"attributes\":{\"logo\":null,\"tools\":[{\"id\":\"1023\"},{\"id\":\"1024\"},{\"id\":\"1025\"},{\"id\":\"1026\"},{\"id\":\"1027\"},{\"id\":\"1028\"}]},\"id\":\"1030\",\"type\":\"Toolbar\"},{\"attributes\":{\"axis\":{\"id\":\"1015\"},\"coordinates\":null,\"group\":null,\"ticker\":null,\"visible\":false},\"id\":\"1018\",\"type\":\"Grid\"},{\"attributes\":{\"axis\":{\"id\":\"1019\"},\"coordinates\":null,\"dimension\":1,\"group\":null,\"ticker\":null,\"visible\":false},\"id\":\"1022\",\"type\":\"Grid\"},{\"attributes\":{},\"id\":\"1011\",\"type\":\"LinearScale\"},{\"attributes\":{\"data\":{\"x\":{\"__ndarray__\":\"HvzEAfTb6r+qI0+rS5rlP0BrXe68Iqy//5fnmF5o4r+k0rrTvrXiP2M04U1tH+I/YHwLyrgS4L9dtghSSgTCv2J7d3XYjtA/xhVZY7dsnD8=\",\"dtype\":\"float64\",\"order\":\"little\",\"shape\":[10]},\"y\":{\"__ndarray__\":\"y/pJjNAVy7+UauGqmRLQPyHzddfhQdc/+HPI1eFLzz9jhp2UD4LuP7SjYcZOV7M/ENQAED0K5b8oUeVqGsqbP2BzccjENdG/yKQS4Ozd6L8=\",\"dtype\":\"float64\",\"order\":\"little\",\"shape\":[10]}},\"selected\":{\"id\":\"1052\"},\"selection_policy\":{\"id\":\"1051\"}},\"id\":\"1037\",\"type\":\"ColumnDataSource\"},{\"attributes\":{\"coordinates\":null,\"group\":null,\"text\":\"10-point scatterplot\"},\"id\":\"1005\",\"type\":\"Title\"},{\"attributes\":{\"fill_alpha\":{\"value\":0.2},\"fill_color\":{\"value\":\"#C00000\"},\"hatch_alpha\":{\"value\":0.2},\"hatch_color\":{\"value\":\"#C00000\"},\"line_alpha\":{\"value\":0.2},\"line_color\":{\"value\":\"#C00000\"},\"size\":{\"value\":5},\"x\":{\"field\":\"x\"},\"y\":{\"field\":\"y\"}},\"id\":\"1040\",\"type\":\"Scatter\"},{\"attributes\":{},\"id\":\"1047\",\"type\":\"AllLabels\"},{\"attributes\":{},\"id\":\"1020\",\"type\":\"BasicTicker\"},{\"attributes\":{},\"id\":\"1016\",\"type\":\"BasicTicker\"},{\"attributes\":{},\"id\":\"1049\",\"type\":\"BasicTickFormatter\"},{\"attributes\":{},\"id\":\"1046\",\"type\":\"BasicTickFormatter\"}],\"root_ids\":[\"1004\"]},\"title\":\"Bokeh Application\",\"version\":\"2.4.3\"}};\n",
       "  const render_items = [{\"docid\":\"b5c63209-4c40-4cd3-b896-4f42a1429926\",\"root_ids\":[\"1004\"],\"roots\":{\"1004\":\"798d55cd-7088-4f04-875e-b3dbea6b7db9\"}}];\n",
       "  root.Bokeh.embed.embed_items_notebook(docs_json, render_items);\n",
       "  }\n",
       "  if (root.Bokeh !== undefined) {\n",
       "    embed_document(root);\n",
       "  } else {\n",
       "    let attempts = 0;\n",
       "    const timer = setInterval(function(root) {\n",
       "      if (root.Bokeh !== undefined) {\n",
       "        clearInterval(timer);\n",
       "        embed_document(root);\n",
       "      } else {\n",
       "        attempts++;\n",
       "        if (attempts > 100) {\n",
       "          clearInterval(timer);\n",
       "          console.log(\"Bokeh: ERROR: Unable to run BokehJS code because BokehJS library is missing\");\n",
       "        }\n",
       "      }\n",
       "    }, 10, root)\n",
       "  }\n",
       "})(window);"
      ],
      "application/vnd.bokehjs_exec.v0+json": ""
     },
     "metadata": {
      "application/vnd.bokehjs_exec.v0+json": {
       "id": "1004"
      }
     },
     "output_type": "display_data"
    }
   ],
   "source": [
    "p = figure(title = '10-point scatterplot', x_axis_label = 'x-axis', y_axis_label = 'y-axis') ## Creates the figure object\n",
    "p.scatter(X[:,0],X[:,1],marker = 'o', color = '#C00000', size = 5) ## Add the scatter plot\n",
    "\n",
    "## Some visual adjustments\n",
    "p.grid.visible = False\n",
    "p.grid.visible = False\n",
    "p.outline_line_color = None \n",
    "p.toolbar.logo = None\n",
    "p.toolbar_location = None\n",
    "p.xaxis.axis_line_color = \"#f0f0f0\"\n",
    "p.xaxis.axis_line_width = 5\n",
    "p.yaxis.axis_line_color = \"#f0f0f0\"\n",
    "p.yaxis.axis_line_width = 5\n",
    "\n",
    "## Shows the figure\n",
    "show(p)"
   ]
  },
  {
   "cell_type": "markdown",
   "id": "65bba887",
   "metadata": {},
   "source": [
    "The next code will generate a widget where you can see how different ways of compressing this data into 1-dimensional datapoints will lead to different ways on how the points are spread in this new space. The line generated by PCA is the line that keeps the points as far as possible from each other. \n",
    "\n",
    "You can use the slider to rotate the black line through its center and see how the points' projection onto the line will change as we rotate the line. \n",
    "\n",
    "You can notice that there are projections that place different points in almost the same point, and there are projections that keep the points as separated as they were in the plane."
   ]
  },
  {
   "cell_type": "code",
   "execution_count": 22,
   "id": "384a5674",
   "metadata": {},
   "outputs": [
    {
     "data": {
      "application/vnd.jupyter.widget-view+json": {
       "model_id": "d207280ed28049b2a60f3ee977ab809d",
       "version_major": 2,
       "version_minor": 0
      },
      "text/plain": [
       "HBox(children=(FigureWidget({\n",
       "    'data': [{'hovertemplate': 'x=%{x}<br>y=%{y}<extra></extra>',\n",
       "              …"
      ]
     },
     "metadata": {},
     "output_type": "display_data"
    }
   ],
   "source": [
    "plot_widget()"
   ]
  },
  {
   "cell_type": "markdown",
   "id": "60071b9c",
   "metadata": {},
   "source": [
    "## Visualization of a 3-dimensional dataset \n",
    "\n",
    "In this section we will see how some 3 dimensional data can be condensed into a 2 dimensional space. "
   ]
  },
  {
   "cell_type": "code",
   "execution_count": 23,
   "id": "d91e0c56",
   "metadata": {},
   "outputs": [],
   "source": [
    "from pca_utils import random_point_circle, plot_3d_2d_graphs"
   ]
  },
  {
   "cell_type": "code",
   "execution_count": 24,
   "id": "113ac73d",
   "metadata": {},
   "outputs": [],
   "source": [
    "X = random_point_circle(n = 150)"
   ]
  },
  {
   "cell_type": "code",
   "execution_count": 25,
   "id": "fc503f9a",
   "metadata": {},
   "outputs": [],
   "source": [
    "deb = plot_3d_2d_graphs(X)"
   ]
  },
  {
   "cell_type": "code",
   "execution_count": 26,
   "id": "8a3b252f",
   "metadata": {},
   "outputs": [
    {
     "data": {
      "application/vnd.plotly.v1+json": {
       "config": {
        "plotlyServerURL": "https://plot.ly"
       },
       "data": [
        {
         "marker": {
          "color": "#C00000",
          "size": 2,
          "symbol": "x"
         },
         "mode": "markers",
         "scene": "scene",
         "type": "scatter3d",
         "x": [
          -0.3440102227333796,
          -0.47181110558539946,
          -0.8558963547509768,
          0.23296190865132563,
          0.21534683773635635,
          0.28396200428344887,
          -0.09804232258455008,
          -0.9204595679238984,
          0.09319660091986161,
          -0.3199903762787423,
          -0.5055132420155869,
          -0.6809965828436674,
          -0.42774336031103843,
          0.2766724470578773,
          0.22583908883308632,
          0.2314073601719822,
          -0.6636813286061796,
          0.030060481324654074,
          0.05535787111304598,
          0.6879328607861243,
          -0.942846632844074,
          -0.09148644566729895,
          -0.262012903966931,
          -0.8373410497010322,
          -0.5030683004619586,
          0.23352316690083288,
          0.33356469927684496,
          0.03680493781636422,
          0.8235168278678622,
          -0.39300314065701897,
          0.26385174266749806,
          -0.8384558259589765,
          0.1113603433746885,
          0.8034147242074707,
          0.34966443939240477,
          -0.9467463979702538,
          -0.35634567554642776,
          -0.25759724768346315,
          -0.09364969989591283,
          -0.23615267049228778,
          0.539570886886172,
          0.11254240363381694,
          0.35059230933120783,
          0.8099725183252346,
          0.7751832227757979,
          0.23197666232316178,
          -0.09510045432507855,
          0.0646722151322829,
          0.7097622926811961,
          0.17431279436841587,
          0.028354351941108833,
          -0.3017914596984061,
          0.684438377069849,
          -0.03288967904105309,
          0.21079038678405013,
          -0.21972907281139772,
          0.6395798034204608,
          0.17049076162612326,
          0.32861922402049737,
          -0.2119093447103061,
          -0.6000442390346439,
          -0.1972607645318294,
          0.03287678474335584,
          0.0401906102181463,
          -0.2806529830799199,
          0.15696005566238413,
          0.14946698991273263,
          0.7289315769651814,
          0.184188724728202,
          0.005396516049729218,
          0.20234722827693846,
          -0.32748444675511684,
          -0.41753403684375595,
          0.7566760211671476,
          -0.3776198966586294,
          0.1677390334295384,
          0.06637523945385922,
          -0.09419514219649747,
          -0.4522264065845029,
          -0.21342895452664273,
          0.13719567040869943,
          -0.09020355673756313,
          0.2245117329322451,
          0.42953682427964324,
          0.3220075422184673,
          0.7590580281140235,
          -0.6159727179750817,
          -0.510538989631469,
          0.5432426071061666,
          -0.14623889451808433,
          0.36712132494218025,
          -0.6377081611900162,
          0.7277443446826352,
          0.9056571374192071,
          -0.19701776152387648,
          0.6527487263057131,
          0.7682634096090122,
          -0.4076900898026301,
          -0.37352513185806047,
          -0.10601658911324613,
          0.16265846833080275,
          -0.8106825537536642,
          -0.36770777098355734,
          -0.457509396530094,
          -0.44803393832636546,
          0.744679643931417,
          -0.3032627450457048,
          -0.22129890194562246,
          -0.12666721956377205,
          0.08117747560098482,
          -0.15522705633450715,
          -0.611585307435542,
          0.5157060240759556,
          0.11959796723050897,
          0.40187574558192535,
          -0.3725782299751793,
          0.19801441750921245,
          0.055730288519266015,
          -0.44079932979397735,
          -0.2642462349091287,
          -0.37303542283704083,
          0.10680765577990065,
          -0.06981790207121635,
          0.046232547090358914,
          -0.5527832218000707,
          0.5562928355133355,
          0.5187834775872128,
          0.5097206826698475,
          -0.3767505671125758,
          0.4781044832193086,
          -0.26615908701196106,
          0.8597639455819885,
          -0.6243086793957501,
          -0.0276957987984677,
          -0.8150552735158293,
          -0.4826889561726832,
          -0.06757424385215571,
          0.6708527047715082,
          -0.013236254430749028,
          0.8351338493963562,
          -0.03896206757047438,
          0.38309605812558195,
          0.5263166848553716,
          0.3911491212091346,
          0.15312125124124293,
          0.10299185354599366,
          -0.7824622823048656,
          -0.008081400287564834,
          0.3325375161500073,
          -0.448343761244125
         ],
         "y": [
          0.32332550254077985,
          -0.020296005827192393,
          -0.09951914610722673,
          -0.07702593204280549,
          -0.15915110839856678,
          -0.37476977167569736,
          0.5526051878124456,
          0.056883055811201795,
          -0.7114782084397868,
          0.6753041042278385,
          -0.15709111105995108,
          -0.2665355919875622,
          0.562169071059744,
          -0.1446347362919546,
          -0.5886241766861526,
          0.6118731503966018,
          0.6762126200929928,
          -0.7128099163067532,
          0.5770737759856683,
          0.02904094493239439,
          -0.30267474124726756,
          0.03704833958357081,
          -0.30928144206302965,
          0.0660903272143954,
          -0.37563596826416334,
          -0.9210485277135027,
          -0.8940294719846595,
          -0.8646468533694532,
          0.3613164443588763,
          0.8191956176838634,
          0.8210348145613975,
          -0.40154597691288485,
          -0.11464683392730411,
          0.4474265215404369,
          -0.6787690006000454,
          -0.05716597568624187,
          0.026628553105792124,
          0.4175811605592514,
          -0.4499821233858941,
          -0.5167582707737105,
          0.3206642291898078,
          -0.018293215013051083,
          0.8924493549292436,
          0.2515708007660243,
          0.049084463915712376,
          -0.6385734208395605,
          -0.1396696008331169,
          -0.8605058973078542,
          0.28295493328779814,
          0.4457891545005672,
          0.2839578018678041,
          0.007024720396429045,
          0.04922235360346131,
          -0.3352482955311518,
          0.11070444424368267,
          -0.21965398531502736,
          -0.39342222842641233,
          -0.006525720415212718,
          -0.8906692641430087,
          -0.46532167944706876,
          0.3494142882612593,
          0.5269431038177986,
          0.5411994809333524,
          -0.7281887446927439,
          -0.02387534519807544,
          0.25368013101586406,
          0.20817167932738584,
          -0.27335858873252783,
          0.7688191247834352,
          0.1986209195321557,
          0.7436241648452967,
          0.7579907270898791,
          -0.29007288482348403,
          -0.1721207705959704,
          -0.8768175631176879,
          0.5519347748682992,
          0.8818953224952166,
          -0.7252710157556609,
          -0.37011429776540383,
          -0.7869015296322424,
          0.1484372251751839,
          -0.2003087929668155,
          -0.036634121149028906,
          0.30715479971099685,
          -0.6787213542748662,
          -0.5893129245322498,
          -0.6984806123227694,
          -0.1977927133000143,
          -0.7592487594903838,
          0.1569166942198778,
          0.41090571010538535,
          0.7402389203612904,
          0.40735539564474,
          -0.28593354611008126,
          0.13948834581212063,
          0.3657065691538937,
          0.2179904524546068,
          0.13079140625101815,
          -0.2751323814083703,
          0.42087229920246666,
          -0.7867019590037226,
          -0.3037762425614954,
          0.31606641361515,
          0.4374669352919468,
          -0.6759002848038288,
          -0.2750958652442052,
          -0.12592118628671972,
          -0.5674611753247483,
          -0.7169659959522414,
          0.8940208252211616,
          -0.4280989805383191,
          -0.5394723820222873,
          -0.5116993530128614,
          0.10188226037270086,
          -0.32587427693499044,
          -0.7861214213231291,
          -0.2991238550717329,
          -0.11899283804814767,
          -0.7970922214303395,
          0.2503567657788044,
          0.41676425840006154,
          0.22449670440757763,
          0.4666018431977868,
          -0.3835966042845009,
          -0.79364365430166,
          0.044693841525323096,
          0.32279095948229436,
          0.16403933446220195,
          0.7653740853859079,
          0.3636656854179049,
          -0.2922038271497707,
          -0.44798162966186333,
          -0.6721889481669568,
          -0.31048952202719377,
          0.5224674506962095,
          -0.37177148407334354,
          -0.6093300850493374,
          -0.4824456919441202,
          0.4481446328999001,
          0.4549077225175419,
          -0.29287626746487405,
          0.0018101001506988668,
          0.6338240811712834,
          -0.3249926412609628,
          0.2542016205520685,
          -0.11861293342733155,
          -0.16530900784070113,
          0.9812109661471581,
          0.8797032355058308,
          -0.30888771509304275
         ],
         "z": [
          -0.02068472019259976,
          -0.49210711141259184,
          -0.9554155008582035,
          0.15593597660852015,
          0.056195729337789574,
          -0.0908077673922485,
          0.4545628652278955,
          -0.8635765121126966,
          -0.6182816075199252,
          0.3553137279490962,
          -0.662604353075538,
          -0.9475321748312295,
          0.13442571074870557,
          0.1320377107659227,
          -0.3627850878530663,
          0.8432805105685841,
          0.0125312914868132,
          -0.6827494349820991,
          0.6324316470987144,
          0.7169738057185187,
          -1.2455213740913416,
          -0.05443810608372814,
          -0.5712943460299607,
          -0.7712507224866367,
          -0.878704268726122,
          -0.6875253608126698,
          -0.5604647727078146,
          -0.8278419155530891,
          1.1848332722267385,
          0.42619247702684443,
          1.0848865572288955,
          -1.2400018028718613,
          -0.003286490552615609,
          1.2508412457479077,
          -0.32910456120764064,
          -1.0039123736564957,
          -0.32971712244063567,
          0.15998391287578823,
          -0.5436318232818069,
          -0.7529109412659982,
          0.8602351160759798,
          0.09424918862076587,
          1.2430416642604514,
          1.0615433190912589,
          0.8242676866915103,
          -0.4065967585163987,
          -0.23477005515819546,
          -0.7958336821755713,
          0.9927172259689943,
          0.6201019488689831,
          0.312312153808913,
          -0.29476673930197705,
          0.7336607306733103,
          -0.36813797457220493,
          0.3214948310277328,
          -0.4393830581264251,
          0.2461575749940485,
          0.16396504121091054,
          -0.5620500401225114,
          -0.6772310241573749,
          -0.25062995077338457,
          0.32968233928596924,
          0.5740762656767082,
          -0.6879981344745976,
          -0.30452832827799536,
          0.4106401866782482,
          0.35763866924011845,
          0.4555729882326536,
          0.9530078495116372,
          0.2040174355818849,
          0.9459713931222351,
          0.4305062803347623,
          -0.70760692166724,
          0.5845552505711772,
          -1.2544374597763173,
          0.7196738082978376,
          0.9482705619490759,
          -0.8194661579521584,
          -0.8223407043499067,
          -1.0003304841588851,
          0.28563289558388333,
          -0.2905123497043786,
          0.18787761178321621,
          0.73669162399064,
          -0.35671381205639896,
          0.16974510358177364,
          -1.3144533302978512,
          -0.7083317029314833,
          -0.21600615238421728,
          0.010677799701793472,
          0.7780270350475655,
          0.10253075917127419,
          1.1350997403273753,
          0.6197235913091258,
          -0.05752941571175585,
          1.018455295459607,
          0.986253862063619,
          -0.27689868355161196,
          -0.6486575132664307,
          0.31485571008922053,
          -0.6240434906729199,
          -1.1144587963151595,
          -0.05164135736840736,
          -0.02004246123814718,
          -1.1239342231301943,
          0.46958377868721174,
          -0.4291839313324245,
          -0.7887600772703707,
          -0.8436332155160134,
          0.9751983008221463,
          -0.5833260368728262,
          -1.1510576894578293,
          0.004006671063094158,
          0.22148022760320984,
          0.07600146864693491,
          -1.1586996512983085,
          -0.10110943756252044,
          -0.06326254952888166,
          -1.237891551224317,
          -0.013889469130324295,
          0.04372883556302071,
          0.3313043601874783,
          0.39678394112657045,
          -0.337364057194142,
          -1.3464268761017306,
          0.6009866770386586,
          0.8415744370695071,
          0.6737600171320495,
          0.3886235182733321,
          0.8417701686372134,
          -0.5583629141617318,
          0.4117823159201252,
          -1.296497627562707,
          -0.33818532082566144,
          -0.2925878228196198,
          -0.8544604402460267,
          -0.6769043289014931,
          0.18840701282738798,
          0.43490837846915104,
          1.290041571913898,
          -0.33183833503534843,
          0.38490615827628083,
          1.1601407660266552,
          0.06615647994817181,
          0.40732287179331145,
          -0.015621079881337888,
          -0.9477712901455667,
          0.9731295658595932,
          1.2122407516558382,
          -0.7572314763371677
         ]
        },
        {
         "mode": "markers",
         "showlegend": false,
         "type": "scatter",
         "x": [
          -0.3440102227333796,
          -0.47181110558539946,
          -0.8558963547509768,
          0.23296190865132563,
          0.21534683773635635,
          0.28396200428344887,
          -0.09804232258455008,
          -0.9204595679238984,
          0.09319660091986161,
          -0.3199903762787423,
          -0.5055132420155869,
          -0.6809965828436674,
          -0.42774336031103843,
          0.2766724470578773,
          0.22583908883308632,
          0.2314073601719822,
          -0.6636813286061796,
          0.030060481324654074,
          0.05535787111304598,
          0.6879328607861243,
          -0.942846632844074,
          -0.09148644566729895,
          -0.262012903966931,
          -0.8373410497010322,
          -0.5030683004619586,
          0.23352316690083288,
          0.33356469927684496,
          0.03680493781636422,
          0.8235168278678622,
          -0.39300314065701897,
          0.26385174266749806,
          -0.8384558259589765,
          0.1113603433746885,
          0.8034147242074707,
          0.34966443939240477,
          -0.9467463979702538,
          -0.35634567554642776,
          -0.25759724768346315,
          -0.09364969989591283,
          -0.23615267049228778,
          0.539570886886172,
          0.11254240363381694,
          0.35059230933120783,
          0.8099725183252346,
          0.7751832227757979,
          0.23197666232316178,
          -0.09510045432507855,
          0.0646722151322829,
          0.7097622926811961,
          0.17431279436841587,
          0.028354351941108833,
          -0.3017914596984061,
          0.684438377069849,
          -0.03288967904105309,
          0.21079038678405013,
          -0.21972907281139772,
          0.6395798034204608,
          0.17049076162612326,
          0.32861922402049737,
          -0.2119093447103061,
          -0.6000442390346439,
          -0.1972607645318294,
          0.03287678474335584,
          0.0401906102181463,
          -0.2806529830799199,
          0.15696005566238413,
          0.14946698991273263,
          0.7289315769651814,
          0.184188724728202,
          0.005396516049729218,
          0.20234722827693846,
          -0.32748444675511684,
          -0.41753403684375595,
          0.7566760211671476,
          -0.3776198966586294,
          0.1677390334295384,
          0.06637523945385922,
          -0.09419514219649747,
          -0.4522264065845029,
          -0.21342895452664273,
          0.13719567040869943,
          -0.09020355673756313,
          0.2245117329322451,
          0.42953682427964324,
          0.3220075422184673,
          0.7590580281140235,
          -0.6159727179750817,
          -0.510538989631469,
          0.5432426071061666,
          -0.14623889451808433,
          0.36712132494218025,
          -0.6377081611900162,
          0.7277443446826352,
          0.9056571374192071,
          -0.19701776152387648,
          0.6527487263057131,
          0.7682634096090122,
          -0.4076900898026301,
          -0.37352513185806047,
          -0.10601658911324613,
          0.16265846833080275,
          -0.8106825537536642,
          -0.36770777098355734,
          -0.457509396530094,
          -0.44803393832636546,
          0.744679643931417,
          -0.3032627450457048,
          -0.22129890194562246,
          -0.12666721956377205,
          0.08117747560098482,
          -0.15522705633450715,
          -0.611585307435542,
          0.5157060240759556,
          0.11959796723050897,
          0.40187574558192535,
          -0.3725782299751793,
          0.19801441750921245,
          0.055730288519266015,
          -0.44079932979397735,
          -0.2642462349091287,
          -0.37303542283704083,
          0.10680765577990065,
          -0.06981790207121635,
          0.046232547090358914,
          -0.5527832218000707,
          0.5562928355133355,
          0.5187834775872128,
          0.5097206826698475,
          -0.3767505671125758,
          0.4781044832193086,
          -0.26615908701196106,
          0.8597639455819885,
          -0.6243086793957501,
          -0.0276957987984677,
          -0.8150552735158293,
          -0.4826889561726832,
          -0.06757424385215571,
          0.6708527047715082,
          -0.013236254430749028,
          0.8351338493963562,
          -0.03896206757047438,
          0.38309605812558195,
          0.5263166848553716,
          0.3911491212091346,
          0.15312125124124293,
          0.10299185354599366,
          -0.7824622823048656,
          -0.008081400287564834,
          0.3325375161500073,
          -0.448343761244125
         ],
         "xaxis": "x",
         "y": [
          0.32332550254077985,
          -0.020296005827192393,
          -0.09951914610722673,
          -0.07702593204280549,
          -0.15915110839856678,
          -0.37476977167569736,
          0.5526051878124456,
          0.056883055811201795,
          -0.7114782084397868,
          0.6753041042278385,
          -0.15709111105995108,
          -0.2665355919875622,
          0.562169071059744,
          -0.1446347362919546,
          -0.5886241766861526,
          0.6118731503966018,
          0.6762126200929928,
          -0.7128099163067532,
          0.5770737759856683,
          0.02904094493239439,
          -0.30267474124726756,
          0.03704833958357081,
          -0.30928144206302965,
          0.0660903272143954,
          -0.37563596826416334,
          -0.9210485277135027,
          -0.8940294719846595,
          -0.8646468533694532,
          0.3613164443588763,
          0.8191956176838634,
          0.8210348145613975,
          -0.40154597691288485,
          -0.11464683392730411,
          0.4474265215404369,
          -0.6787690006000454,
          -0.05716597568624187,
          0.026628553105792124,
          0.4175811605592514,
          -0.4499821233858941,
          -0.5167582707737105,
          0.3206642291898078,
          -0.018293215013051083,
          0.8924493549292436,
          0.2515708007660243,
          0.049084463915712376,
          -0.6385734208395605,
          -0.1396696008331169,
          -0.8605058973078542,
          0.28295493328779814,
          0.4457891545005672,
          0.2839578018678041,
          0.007024720396429045,
          0.04922235360346131,
          -0.3352482955311518,
          0.11070444424368267,
          -0.21965398531502736,
          -0.39342222842641233,
          -0.006525720415212718,
          -0.8906692641430087,
          -0.46532167944706876,
          0.3494142882612593,
          0.5269431038177986,
          0.5411994809333524,
          -0.7281887446927439,
          -0.02387534519807544,
          0.25368013101586406,
          0.20817167932738584,
          -0.27335858873252783,
          0.7688191247834352,
          0.1986209195321557,
          0.7436241648452967,
          0.7579907270898791,
          -0.29007288482348403,
          -0.1721207705959704,
          -0.8768175631176879,
          0.5519347748682992,
          0.8818953224952166,
          -0.7252710157556609,
          -0.37011429776540383,
          -0.7869015296322424,
          0.1484372251751839,
          -0.2003087929668155,
          -0.036634121149028906,
          0.30715479971099685,
          -0.6787213542748662,
          -0.5893129245322498,
          -0.6984806123227694,
          -0.1977927133000143,
          -0.7592487594903838,
          0.1569166942198778,
          0.41090571010538535,
          0.7402389203612904,
          0.40735539564474,
          -0.28593354611008126,
          0.13948834581212063,
          0.3657065691538937,
          0.2179904524546068,
          0.13079140625101815,
          -0.2751323814083703,
          0.42087229920246666,
          -0.7867019590037226,
          -0.3037762425614954,
          0.31606641361515,
          0.4374669352919468,
          -0.6759002848038288,
          -0.2750958652442052,
          -0.12592118628671972,
          -0.5674611753247483,
          -0.7169659959522414,
          0.8940208252211616,
          -0.4280989805383191,
          -0.5394723820222873,
          -0.5116993530128614,
          0.10188226037270086,
          -0.32587427693499044,
          -0.7861214213231291,
          -0.2991238550717329,
          -0.11899283804814767,
          -0.7970922214303395,
          0.2503567657788044,
          0.41676425840006154,
          0.22449670440757763,
          0.4666018431977868,
          -0.3835966042845009,
          -0.79364365430166,
          0.044693841525323096,
          0.32279095948229436,
          0.16403933446220195,
          0.7653740853859079,
          0.3636656854179049,
          -0.2922038271497707,
          -0.44798162966186333,
          -0.6721889481669568,
          -0.31048952202719377,
          0.5224674506962095,
          -0.37177148407334354,
          -0.6093300850493374,
          -0.4824456919441202,
          0.4481446328999001,
          0.4549077225175419,
          -0.29287626746487405,
          0.0018101001506988668,
          0.6338240811712834,
          -0.3249926412609628,
          0.2542016205520685,
          -0.11861293342733155,
          -0.16530900784070113,
          0.9812109661471581,
          0.8797032355058308,
          -0.30888771509304275
         ],
         "yaxis": "y"
        }
       ],
       "layout": {
        "scene": {
         "domain": {
          "x": [
           0,
           0.45
          ],
          "y": [
           0,
           1
          ]
         },
         "xaxis": {
          "range": [
           -1.5,
           1.5
          ],
          "showgrid": false,
          "title": {
           "text": "x1"
          }
         },
         "yaxis": {
          "range": [
           -1.5,
           1.5
          ],
          "showgrid": false,
          "title": {
           "text": "x2"
          }
         },
         "zaxis": {
          "range": [
           -1.5,
           1.5
          ],
          "showgrid": false,
          "title": {
           "text": "x3"
          }
         }
        },
        "template": {
         "data": {
          "bar": [
           {
            "error_x": {
             "color": "#2a3f5f"
            },
            "error_y": {
             "color": "#2a3f5f"
            },
            "marker": {
             "line": {
              "color": "#E5ECF6",
              "width": 0.5
             },
             "pattern": {
              "fillmode": "overlay",
              "size": 10,
              "solidity": 0.2
             }
            },
            "type": "bar"
           }
          ],
          "barpolar": [
           {
            "marker": {
             "line": {
              "color": "#E5ECF6",
              "width": 0.5
             },
             "pattern": {
              "fillmode": "overlay",
              "size": 10,
              "solidity": 0.2
             }
            },
            "type": "barpolar"
           }
          ],
          "carpet": [
           {
            "aaxis": {
             "endlinecolor": "#2a3f5f",
             "gridcolor": "white",
             "linecolor": "white",
             "minorgridcolor": "white",
             "startlinecolor": "#2a3f5f"
            },
            "baxis": {
             "endlinecolor": "#2a3f5f",
             "gridcolor": "white",
             "linecolor": "white",
             "minorgridcolor": "white",
             "startlinecolor": "#2a3f5f"
            },
            "type": "carpet"
           }
          ],
          "choropleth": [
           {
            "colorbar": {
             "outlinewidth": 0,
             "ticks": ""
            },
            "type": "choropleth"
           }
          ],
          "contour": [
           {
            "colorbar": {
             "outlinewidth": 0,
             "ticks": ""
            },
            "colorscale": [
             [
              0,
              "#0d0887"
             ],
             [
              0.1111111111111111,
              "#46039f"
             ],
             [
              0.2222222222222222,
              "#7201a8"
             ],
             [
              0.3333333333333333,
              "#9c179e"
             ],
             [
              0.4444444444444444,
              "#bd3786"
             ],
             [
              0.5555555555555556,
              "#d8576b"
             ],
             [
              0.6666666666666666,
              "#ed7953"
             ],
             [
              0.7777777777777778,
              "#fb9f3a"
             ],
             [
              0.8888888888888888,
              "#fdca26"
             ],
             [
              1,
              "#f0f921"
             ]
            ],
            "type": "contour"
           }
          ],
          "contourcarpet": [
           {
            "colorbar": {
             "outlinewidth": 0,
             "ticks": ""
            },
            "type": "contourcarpet"
           }
          ],
          "heatmap": [
           {
            "colorbar": {
             "outlinewidth": 0,
             "ticks": ""
            },
            "colorscale": [
             [
              0,
              "#0d0887"
             ],
             [
              0.1111111111111111,
              "#46039f"
             ],
             [
              0.2222222222222222,
              "#7201a8"
             ],
             [
              0.3333333333333333,
              "#9c179e"
             ],
             [
              0.4444444444444444,
              "#bd3786"
             ],
             [
              0.5555555555555556,
              "#d8576b"
             ],
             [
              0.6666666666666666,
              "#ed7953"
             ],
             [
              0.7777777777777778,
              "#fb9f3a"
             ],
             [
              0.8888888888888888,
              "#fdca26"
             ],
             [
              1,
              "#f0f921"
             ]
            ],
            "type": "heatmap"
           }
          ],
          "heatmapgl": [
           {
            "colorbar": {
             "outlinewidth": 0,
             "ticks": ""
            },
            "colorscale": [
             [
              0,
              "#0d0887"
             ],
             [
              0.1111111111111111,
              "#46039f"
             ],
             [
              0.2222222222222222,
              "#7201a8"
             ],
             [
              0.3333333333333333,
              "#9c179e"
             ],
             [
              0.4444444444444444,
              "#bd3786"
             ],
             [
              0.5555555555555556,
              "#d8576b"
             ],
             [
              0.6666666666666666,
              "#ed7953"
             ],
             [
              0.7777777777777778,
              "#fb9f3a"
             ],
             [
              0.8888888888888888,
              "#fdca26"
             ],
             [
              1,
              "#f0f921"
             ]
            ],
            "type": "heatmapgl"
           }
          ],
          "histogram": [
           {
            "marker": {
             "pattern": {
              "fillmode": "overlay",
              "size": 10,
              "solidity": 0.2
             }
            },
            "type": "histogram"
           }
          ],
          "histogram2d": [
           {
            "colorbar": {
             "outlinewidth": 0,
             "ticks": ""
            },
            "colorscale": [
             [
              0,
              "#0d0887"
             ],
             [
              0.1111111111111111,
              "#46039f"
             ],
             [
              0.2222222222222222,
              "#7201a8"
             ],
             [
              0.3333333333333333,
              "#9c179e"
             ],
             [
              0.4444444444444444,
              "#bd3786"
             ],
             [
              0.5555555555555556,
              "#d8576b"
             ],
             [
              0.6666666666666666,
              "#ed7953"
             ],
             [
              0.7777777777777778,
              "#fb9f3a"
             ],
             [
              0.8888888888888888,
              "#fdca26"
             ],
             [
              1,
              "#f0f921"
             ]
            ],
            "type": "histogram2d"
           }
          ],
          "histogram2dcontour": [
           {
            "colorbar": {
             "outlinewidth": 0,
             "ticks": ""
            },
            "colorscale": [
             [
              0,
              "#0d0887"
             ],
             [
              0.1111111111111111,
              "#46039f"
             ],
             [
              0.2222222222222222,
              "#7201a8"
             ],
             [
              0.3333333333333333,
              "#9c179e"
             ],
             [
              0.4444444444444444,
              "#bd3786"
             ],
             [
              0.5555555555555556,
              "#d8576b"
             ],
             [
              0.6666666666666666,
              "#ed7953"
             ],
             [
              0.7777777777777778,
              "#fb9f3a"
             ],
             [
              0.8888888888888888,
              "#fdca26"
             ],
             [
              1,
              "#f0f921"
             ]
            ],
            "type": "histogram2dcontour"
           }
          ],
          "mesh3d": [
           {
            "colorbar": {
             "outlinewidth": 0,
             "ticks": ""
            },
            "type": "mesh3d"
           }
          ],
          "parcoords": [
           {
            "line": {
             "colorbar": {
              "outlinewidth": 0,
              "ticks": ""
             }
            },
            "type": "parcoords"
           }
          ],
          "pie": [
           {
            "automargin": true,
            "type": "pie"
           }
          ],
          "scatter": [
           {
            "fillpattern": {
             "fillmode": "overlay",
             "size": 10,
             "solidity": 0.2
            },
            "type": "scatter"
           }
          ],
          "scatter3d": [
           {
            "line": {
             "colorbar": {
              "outlinewidth": 0,
              "ticks": ""
             }
            },
            "marker": {
             "colorbar": {
              "outlinewidth": 0,
              "ticks": ""
             }
            },
            "type": "scatter3d"
           }
          ],
          "scattercarpet": [
           {
            "marker": {
             "colorbar": {
              "outlinewidth": 0,
              "ticks": ""
             }
            },
            "type": "scattercarpet"
           }
          ],
          "scattergeo": [
           {
            "marker": {
             "colorbar": {
              "outlinewidth": 0,
              "ticks": ""
             }
            },
            "type": "scattergeo"
           }
          ],
          "scattergl": [
           {
            "marker": {
             "colorbar": {
              "outlinewidth": 0,
              "ticks": ""
             }
            },
            "type": "scattergl"
           }
          ],
          "scattermapbox": [
           {
            "marker": {
             "colorbar": {
              "outlinewidth": 0,
              "ticks": ""
             }
            },
            "type": "scattermapbox"
           }
          ],
          "scatterpolar": [
           {
            "marker": {
             "colorbar": {
              "outlinewidth": 0,
              "ticks": ""
             }
            },
            "type": "scatterpolar"
           }
          ],
          "scatterpolargl": [
           {
            "marker": {
             "colorbar": {
              "outlinewidth": 0,
              "ticks": ""
             }
            },
            "type": "scatterpolargl"
           }
          ],
          "scatterternary": [
           {
            "marker": {
             "colorbar": {
              "outlinewidth": 0,
              "ticks": ""
             }
            },
            "type": "scatterternary"
           }
          ],
          "surface": [
           {
            "colorbar": {
             "outlinewidth": 0,
             "ticks": ""
            },
            "colorscale": [
             [
              0,
              "#0d0887"
             ],
             [
              0.1111111111111111,
              "#46039f"
             ],
             [
              0.2222222222222222,
              "#7201a8"
             ],
             [
              0.3333333333333333,
              "#9c179e"
             ],
             [
              0.4444444444444444,
              "#bd3786"
             ],
             [
              0.5555555555555556,
              "#d8576b"
             ],
             [
              0.6666666666666666,
              "#ed7953"
             ],
             [
              0.7777777777777778,
              "#fb9f3a"
             ],
             [
              0.8888888888888888,
              "#fdca26"
             ],
             [
              1,
              "#f0f921"
             ]
            ],
            "type": "surface"
           }
          ],
          "table": [
           {
            "cells": {
             "fill": {
              "color": "#EBF0F8"
             },
             "line": {
              "color": "white"
             }
            },
            "header": {
             "fill": {
              "color": "#C8D4E3"
             },
             "line": {
              "color": "white"
             }
            },
            "type": "table"
           }
          ]
         },
         "layout": {
          "annotationdefaults": {
           "arrowcolor": "#2a3f5f",
           "arrowhead": 0,
           "arrowwidth": 1
          },
          "autotypenumbers": "strict",
          "coloraxis": {
           "colorbar": {
            "outlinewidth": 0,
            "ticks": ""
           }
          },
          "colorscale": {
           "diverging": [
            [
             0,
             "#8e0152"
            ],
            [
             0.1,
             "#c51b7d"
            ],
            [
             0.2,
             "#de77ae"
            ],
            [
             0.3,
             "#f1b6da"
            ],
            [
             0.4,
             "#fde0ef"
            ],
            [
             0.5,
             "#f7f7f7"
            ],
            [
             0.6,
             "#e6f5d0"
            ],
            [
             0.7,
             "#b8e186"
            ],
            [
             0.8,
             "#7fbc41"
            ],
            [
             0.9,
             "#4d9221"
            ],
            [
             1,
             "#276419"
            ]
           ],
           "sequential": [
            [
             0,
             "#0d0887"
            ],
            [
             0.1111111111111111,
             "#46039f"
            ],
            [
             0.2222222222222222,
             "#7201a8"
            ],
            [
             0.3333333333333333,
             "#9c179e"
            ],
            [
             0.4444444444444444,
             "#bd3786"
            ],
            [
             0.5555555555555556,
             "#d8576b"
            ],
            [
             0.6666666666666666,
             "#ed7953"
            ],
            [
             0.7777777777777778,
             "#fb9f3a"
            ],
            [
             0.8888888888888888,
             "#fdca26"
            ],
            [
             1,
             "#f0f921"
            ]
           ],
           "sequentialminus": [
            [
             0,
             "#0d0887"
            ],
            [
             0.1111111111111111,
             "#46039f"
            ],
            [
             0.2222222222222222,
             "#7201a8"
            ],
            [
             0.3333333333333333,
             "#9c179e"
            ],
            [
             0.4444444444444444,
             "#bd3786"
            ],
            [
             0.5555555555555556,
             "#d8576b"
            ],
            [
             0.6666666666666666,
             "#ed7953"
            ],
            [
             0.7777777777777778,
             "#fb9f3a"
            ],
            [
             0.8888888888888888,
             "#fdca26"
            ],
            [
             1,
             "#f0f921"
            ]
           ]
          },
          "colorway": [
           "#636efa",
           "#EF553B",
           "#00cc96",
           "#ab63fa",
           "#FFA15A",
           "#19d3f3",
           "#FF6692",
           "#B6E880",
           "#FF97FF",
           "#FECB52"
          ],
          "font": {
           "color": "#2a3f5f"
          },
          "geo": {
           "bgcolor": "white",
           "lakecolor": "white",
           "landcolor": "#E5ECF6",
           "showlakes": true,
           "showland": true,
           "subunitcolor": "white"
          },
          "hoverlabel": {
           "align": "left"
          },
          "hovermode": "closest",
          "mapbox": {
           "style": "light"
          },
          "paper_bgcolor": "white",
          "plot_bgcolor": "#E5ECF6",
          "polar": {
           "angularaxis": {
            "gridcolor": "white",
            "linecolor": "white",
            "ticks": ""
           },
           "bgcolor": "#E5ECF6",
           "radialaxis": {
            "gridcolor": "white",
            "linecolor": "white",
            "ticks": ""
           }
          },
          "scene": {
           "xaxis": {
            "backgroundcolor": "#E5ECF6",
            "gridcolor": "white",
            "gridwidth": 2,
            "linecolor": "white",
            "showbackground": true,
            "ticks": "",
            "zerolinecolor": "white"
           },
           "yaxis": {
            "backgroundcolor": "#E5ECF6",
            "gridcolor": "white",
            "gridwidth": 2,
            "linecolor": "white",
            "showbackground": true,
            "ticks": "",
            "zerolinecolor": "white"
           },
           "zaxis": {
            "backgroundcolor": "#E5ECF6",
            "gridcolor": "white",
            "gridwidth": 2,
            "linecolor": "white",
            "showbackground": true,
            "ticks": "",
            "zerolinecolor": "white"
           }
          },
          "shapedefaults": {
           "line": {
            "color": "#2a3f5f"
           }
          },
          "ternary": {
           "aaxis": {
            "gridcolor": "white",
            "linecolor": "white",
            "ticks": ""
           },
           "baxis": {
            "gridcolor": "white",
            "linecolor": "white",
            "ticks": ""
           },
           "bgcolor": "#E5ECF6",
           "caxis": {
            "gridcolor": "white",
            "linecolor": "white",
            "ticks": ""
           }
          },
          "title": {
           "x": 0.05
          },
          "xaxis": {
           "automargin": true,
           "gridcolor": "white",
           "linecolor": "white",
           "ticks": "",
           "title": {
            "standoff": 15
           },
           "zerolinecolor": "white",
           "zerolinewidth": 2
          },
          "yaxis": {
           "automargin": true,
           "gridcolor": "white",
           "linecolor": "white",
           "ticks": "",
           "title": {
            "standoff": 15
           },
           "zerolinecolor": "white",
           "zerolinewidth": 2
          }
         }
        },
        "xaxis": {
         "anchor": "y",
         "domain": [
          0.55,
          1
         ]
        },
        "yaxis": {
         "anchor": "x",
         "domain": [
          0,
          1
         ]
        },
        "yaxis2": {
         "title": {
          "text": "test"
         },
         "visible": true
        }
       }
      },
      "text/html": [
       "<div>                            <div id=\"b2111802-2953-4671-82e4-58c9f733cf27\" class=\"plotly-graph-div\" style=\"height:525px; width:100%;\"></div>            <script type=\"text/javascript\">                require([\"plotly\"], function(Plotly) {                    window.PLOTLYENV=window.PLOTLYENV || {};                                    if (document.getElementById(\"b2111802-2953-4671-82e4-58c9f733cf27\")) {                    Plotly.newPlot(                        \"b2111802-2953-4671-82e4-58c9f733cf27\",                        [{\"mode\":\"markers\",\"x\":[-0.3440102227333796,-0.47181110558539946,-0.8558963547509768,0.23296190865132563,0.21534683773635635,0.28396200428344887,-0.09804232258455008,-0.9204595679238984,0.09319660091986161,-0.3199903762787423,-0.5055132420155869,-0.6809965828436674,-0.42774336031103843,0.2766724470578773,0.22583908883308632,0.2314073601719822,-0.6636813286061796,0.030060481324654074,0.05535787111304598,0.6879328607861243,-0.942846632844074,-0.09148644566729895,-0.262012903966931,-0.8373410497010322,-0.5030683004619586,0.23352316690083288,0.33356469927684496,0.03680493781636422,0.8235168278678622,-0.39300314065701897,0.26385174266749806,-0.8384558259589765,0.1113603433746885,0.8034147242074707,0.34966443939240477,-0.9467463979702538,-0.35634567554642776,-0.25759724768346315,-0.09364969989591283,-0.23615267049228778,0.539570886886172,0.11254240363381694,0.35059230933120783,0.8099725183252346,0.7751832227757979,0.23197666232316178,-0.09510045432507855,0.0646722151322829,0.7097622926811961,0.17431279436841587,0.028354351941108833,-0.3017914596984061,0.684438377069849,-0.03288967904105309,0.21079038678405013,-0.21972907281139772,0.6395798034204608,0.17049076162612326,0.32861922402049737,-0.2119093447103061,-0.6000442390346439,-0.1972607645318294,0.03287678474335584,0.0401906102181463,-0.2806529830799199,0.15696005566238413,0.14946698991273263,0.7289315769651814,0.184188724728202,0.005396516049729218,0.20234722827693846,-0.32748444675511684,-0.41753403684375595,0.7566760211671476,-0.3776198966586294,0.1677390334295384,0.06637523945385922,-0.09419514219649747,-0.4522264065845029,-0.21342895452664273,0.13719567040869943,-0.09020355673756313,0.2245117329322451,0.42953682427964324,0.3220075422184673,0.7590580281140235,-0.6159727179750817,-0.510538989631469,0.5432426071061666,-0.14623889451808433,0.36712132494218025,-0.6377081611900162,0.7277443446826352,0.9056571374192071,-0.19701776152387648,0.6527487263057131,0.7682634096090122,-0.4076900898026301,-0.37352513185806047,-0.10601658911324613,0.16265846833080275,-0.8106825537536642,-0.36770777098355734,-0.457509396530094,-0.44803393832636546,0.744679643931417,-0.3032627450457048,-0.22129890194562246,-0.12666721956377205,0.08117747560098482,-0.15522705633450715,-0.611585307435542,0.5157060240759556,0.11959796723050897,0.40187574558192535,-0.3725782299751793,0.19801441750921245,0.055730288519266015,-0.44079932979397735,-0.2642462349091287,-0.37303542283704083,0.10680765577990065,-0.06981790207121635,0.046232547090358914,-0.5527832218000707,0.5562928355133355,0.5187834775872128,0.5097206826698475,-0.3767505671125758,0.4781044832193086,-0.26615908701196106,0.8597639455819885,-0.6243086793957501,-0.0276957987984677,-0.8150552735158293,-0.4826889561726832,-0.06757424385215571,0.6708527047715082,-0.013236254430749028,0.8351338493963562,-0.03896206757047438,0.38309605812558195,0.5263166848553716,0.3911491212091346,0.15312125124124293,0.10299185354599366,-0.7824622823048656,-0.008081400287564834,0.3325375161500073,-0.448343761244125],\"y\":[0.32332550254077985,-0.020296005827192393,-0.09951914610722673,-0.07702593204280549,-0.15915110839856678,-0.37476977167569736,0.5526051878124456,0.056883055811201795,-0.7114782084397868,0.6753041042278385,-0.15709111105995108,-0.2665355919875622,0.562169071059744,-0.1446347362919546,-0.5886241766861526,0.6118731503966018,0.6762126200929928,-0.7128099163067532,0.5770737759856683,0.02904094493239439,-0.30267474124726756,0.03704833958357081,-0.30928144206302965,0.0660903272143954,-0.37563596826416334,-0.9210485277135027,-0.8940294719846595,-0.8646468533694532,0.3613164443588763,0.8191956176838634,0.8210348145613975,-0.40154597691288485,-0.11464683392730411,0.4474265215404369,-0.6787690006000454,-0.05716597568624187,0.026628553105792124,0.4175811605592514,-0.4499821233858941,-0.5167582707737105,0.3206642291898078,-0.018293215013051083,0.8924493549292436,0.2515708007660243,0.049084463915712376,-0.6385734208395605,-0.1396696008331169,-0.8605058973078542,0.28295493328779814,0.4457891545005672,0.2839578018678041,0.007024720396429045,0.04922235360346131,-0.3352482955311518,0.11070444424368267,-0.21965398531502736,-0.39342222842641233,-0.006525720415212718,-0.8906692641430087,-0.46532167944706876,0.3494142882612593,0.5269431038177986,0.5411994809333524,-0.7281887446927439,-0.02387534519807544,0.25368013101586406,0.20817167932738584,-0.27335858873252783,0.7688191247834352,0.1986209195321557,0.7436241648452967,0.7579907270898791,-0.29007288482348403,-0.1721207705959704,-0.8768175631176879,0.5519347748682992,0.8818953224952166,-0.7252710157556609,-0.37011429776540383,-0.7869015296322424,0.1484372251751839,-0.2003087929668155,-0.036634121149028906,0.30715479971099685,-0.6787213542748662,-0.5893129245322498,-0.6984806123227694,-0.1977927133000143,-0.7592487594903838,0.1569166942198778,0.41090571010538535,0.7402389203612904,0.40735539564474,-0.28593354611008126,0.13948834581212063,0.3657065691538937,0.2179904524546068,0.13079140625101815,-0.2751323814083703,0.42087229920246666,-0.7867019590037226,-0.3037762425614954,0.31606641361515,0.4374669352919468,-0.6759002848038288,-0.2750958652442052,-0.12592118628671972,-0.5674611753247483,-0.7169659959522414,0.8940208252211616,-0.4280989805383191,-0.5394723820222873,-0.5116993530128614,0.10188226037270086,-0.32587427693499044,-0.7861214213231291,-0.2991238550717329,-0.11899283804814767,-0.7970922214303395,0.2503567657788044,0.41676425840006154,0.22449670440757763,0.4666018431977868,-0.3835966042845009,-0.79364365430166,0.044693841525323096,0.32279095948229436,0.16403933446220195,0.7653740853859079,0.3636656854179049,-0.2922038271497707,-0.44798162966186333,-0.6721889481669568,-0.31048952202719377,0.5224674506962095,-0.37177148407334354,-0.6093300850493374,-0.4824456919441202,0.4481446328999001,0.4549077225175419,-0.29287626746487405,0.0018101001506988668,0.6338240811712834,-0.3249926412609628,0.2542016205520685,-0.11861293342733155,-0.16530900784070113,0.9812109661471581,0.8797032355058308,-0.30888771509304275],\"z\":[-0.02068472019259976,-0.49210711141259184,-0.9554155008582035,0.15593597660852015,0.056195729337789574,-0.0908077673922485,0.4545628652278955,-0.8635765121126966,-0.6182816075199252,0.3553137279490962,-0.662604353075538,-0.9475321748312295,0.13442571074870557,0.1320377107659227,-0.3627850878530663,0.8432805105685841,0.0125312914868132,-0.6827494349820991,0.6324316470987144,0.7169738057185187,-1.2455213740913416,-0.05443810608372814,-0.5712943460299607,-0.7712507224866367,-0.878704268726122,-0.6875253608126698,-0.5604647727078146,-0.8278419155530891,1.1848332722267385,0.42619247702684443,1.0848865572288955,-1.2400018028718613,-0.003286490552615609,1.2508412457479077,-0.32910456120764064,-1.0039123736564957,-0.32971712244063567,0.15998391287578823,-0.5436318232818069,-0.7529109412659982,0.8602351160759798,0.09424918862076587,1.2430416642604514,1.0615433190912589,0.8242676866915103,-0.4065967585163987,-0.23477005515819546,-0.7958336821755713,0.9927172259689943,0.6201019488689831,0.312312153808913,-0.29476673930197705,0.7336607306733103,-0.36813797457220493,0.3214948310277328,-0.4393830581264251,0.2461575749940485,0.16396504121091054,-0.5620500401225114,-0.6772310241573749,-0.25062995077338457,0.32968233928596924,0.5740762656767082,-0.6879981344745976,-0.30452832827799536,0.4106401866782482,0.35763866924011845,0.4555729882326536,0.9530078495116372,0.2040174355818849,0.9459713931222351,0.4305062803347623,-0.70760692166724,0.5845552505711772,-1.2544374597763173,0.7196738082978376,0.9482705619490759,-0.8194661579521584,-0.8223407043499067,-1.0003304841588851,0.28563289558388333,-0.2905123497043786,0.18787761178321621,0.73669162399064,-0.35671381205639896,0.16974510358177364,-1.3144533302978512,-0.7083317029314833,-0.21600615238421728,0.010677799701793472,0.7780270350475655,0.10253075917127419,1.1350997403273753,0.6197235913091258,-0.05752941571175585,1.018455295459607,0.986253862063619,-0.27689868355161196,-0.6486575132664307,0.31485571008922053,-0.6240434906729199,-1.1144587963151595,-0.05164135736840736,-0.02004246123814718,-1.1239342231301943,0.46958377868721174,-0.4291839313324245,-0.7887600772703707,-0.8436332155160134,0.9751983008221463,-0.5833260368728262,-1.1510576894578293,0.004006671063094158,0.22148022760320984,0.07600146864693491,-1.1586996512983085,-0.10110943756252044,-0.06326254952888166,-1.237891551224317,-0.013889469130324295,0.04372883556302071,0.3313043601874783,0.39678394112657045,-0.337364057194142,-1.3464268761017306,0.6009866770386586,0.8415744370695071,0.6737600171320495,0.3886235182733321,0.8417701686372134,-0.5583629141617318,0.4117823159201252,-1.296497627562707,-0.33818532082566144,-0.2925878228196198,-0.8544604402460267,-0.6769043289014931,0.18840701282738798,0.43490837846915104,1.290041571913898,-0.33183833503534843,0.38490615827628083,1.1601407660266552,0.06615647994817181,0.40732287179331145,-0.015621079881337888,-0.9477712901455667,0.9731295658595932,1.2122407516558382,-0.7572314763371677],\"type\":\"scatter3d\",\"scene\":\"scene\",\"marker\":{\"color\":\"#C00000\",\"size\":2,\"symbol\":\"x\"}},{\"mode\":\"markers\",\"showlegend\":false,\"x\":[-0.3440102227333796,-0.47181110558539946,-0.8558963547509768,0.23296190865132563,0.21534683773635635,0.28396200428344887,-0.09804232258455008,-0.9204595679238984,0.09319660091986161,-0.3199903762787423,-0.5055132420155869,-0.6809965828436674,-0.42774336031103843,0.2766724470578773,0.22583908883308632,0.2314073601719822,-0.6636813286061796,0.030060481324654074,0.05535787111304598,0.6879328607861243,-0.942846632844074,-0.09148644566729895,-0.262012903966931,-0.8373410497010322,-0.5030683004619586,0.23352316690083288,0.33356469927684496,0.03680493781636422,0.8235168278678622,-0.39300314065701897,0.26385174266749806,-0.8384558259589765,0.1113603433746885,0.8034147242074707,0.34966443939240477,-0.9467463979702538,-0.35634567554642776,-0.25759724768346315,-0.09364969989591283,-0.23615267049228778,0.539570886886172,0.11254240363381694,0.35059230933120783,0.8099725183252346,0.7751832227757979,0.23197666232316178,-0.09510045432507855,0.0646722151322829,0.7097622926811961,0.17431279436841587,0.028354351941108833,-0.3017914596984061,0.684438377069849,-0.03288967904105309,0.21079038678405013,-0.21972907281139772,0.6395798034204608,0.17049076162612326,0.32861922402049737,-0.2119093447103061,-0.6000442390346439,-0.1972607645318294,0.03287678474335584,0.0401906102181463,-0.2806529830799199,0.15696005566238413,0.14946698991273263,0.7289315769651814,0.184188724728202,0.005396516049729218,0.20234722827693846,-0.32748444675511684,-0.41753403684375595,0.7566760211671476,-0.3776198966586294,0.1677390334295384,0.06637523945385922,-0.09419514219649747,-0.4522264065845029,-0.21342895452664273,0.13719567040869943,-0.09020355673756313,0.2245117329322451,0.42953682427964324,0.3220075422184673,0.7590580281140235,-0.6159727179750817,-0.510538989631469,0.5432426071061666,-0.14623889451808433,0.36712132494218025,-0.6377081611900162,0.7277443446826352,0.9056571374192071,-0.19701776152387648,0.6527487263057131,0.7682634096090122,-0.4076900898026301,-0.37352513185806047,-0.10601658911324613,0.16265846833080275,-0.8106825537536642,-0.36770777098355734,-0.457509396530094,-0.44803393832636546,0.744679643931417,-0.3032627450457048,-0.22129890194562246,-0.12666721956377205,0.08117747560098482,-0.15522705633450715,-0.611585307435542,0.5157060240759556,0.11959796723050897,0.40187574558192535,-0.3725782299751793,0.19801441750921245,0.055730288519266015,-0.44079932979397735,-0.2642462349091287,-0.37303542283704083,0.10680765577990065,-0.06981790207121635,0.046232547090358914,-0.5527832218000707,0.5562928355133355,0.5187834775872128,0.5097206826698475,-0.3767505671125758,0.4781044832193086,-0.26615908701196106,0.8597639455819885,-0.6243086793957501,-0.0276957987984677,-0.8150552735158293,-0.4826889561726832,-0.06757424385215571,0.6708527047715082,-0.013236254430749028,0.8351338493963562,-0.03896206757047438,0.38309605812558195,0.5263166848553716,0.3911491212091346,0.15312125124124293,0.10299185354599366,-0.7824622823048656,-0.008081400287564834,0.3325375161500073,-0.448343761244125],\"y\":[0.32332550254077985,-0.020296005827192393,-0.09951914610722673,-0.07702593204280549,-0.15915110839856678,-0.37476977167569736,0.5526051878124456,0.056883055811201795,-0.7114782084397868,0.6753041042278385,-0.15709111105995108,-0.2665355919875622,0.562169071059744,-0.1446347362919546,-0.5886241766861526,0.6118731503966018,0.6762126200929928,-0.7128099163067532,0.5770737759856683,0.02904094493239439,-0.30267474124726756,0.03704833958357081,-0.30928144206302965,0.0660903272143954,-0.37563596826416334,-0.9210485277135027,-0.8940294719846595,-0.8646468533694532,0.3613164443588763,0.8191956176838634,0.8210348145613975,-0.40154597691288485,-0.11464683392730411,0.4474265215404369,-0.6787690006000454,-0.05716597568624187,0.026628553105792124,0.4175811605592514,-0.4499821233858941,-0.5167582707737105,0.3206642291898078,-0.018293215013051083,0.8924493549292436,0.2515708007660243,0.049084463915712376,-0.6385734208395605,-0.1396696008331169,-0.8605058973078542,0.28295493328779814,0.4457891545005672,0.2839578018678041,0.007024720396429045,0.04922235360346131,-0.3352482955311518,0.11070444424368267,-0.21965398531502736,-0.39342222842641233,-0.006525720415212718,-0.8906692641430087,-0.46532167944706876,0.3494142882612593,0.5269431038177986,0.5411994809333524,-0.7281887446927439,-0.02387534519807544,0.25368013101586406,0.20817167932738584,-0.27335858873252783,0.7688191247834352,0.1986209195321557,0.7436241648452967,0.7579907270898791,-0.29007288482348403,-0.1721207705959704,-0.8768175631176879,0.5519347748682992,0.8818953224952166,-0.7252710157556609,-0.37011429776540383,-0.7869015296322424,0.1484372251751839,-0.2003087929668155,-0.036634121149028906,0.30715479971099685,-0.6787213542748662,-0.5893129245322498,-0.6984806123227694,-0.1977927133000143,-0.7592487594903838,0.1569166942198778,0.41090571010538535,0.7402389203612904,0.40735539564474,-0.28593354611008126,0.13948834581212063,0.3657065691538937,0.2179904524546068,0.13079140625101815,-0.2751323814083703,0.42087229920246666,-0.7867019590037226,-0.3037762425614954,0.31606641361515,0.4374669352919468,-0.6759002848038288,-0.2750958652442052,-0.12592118628671972,-0.5674611753247483,-0.7169659959522414,0.8940208252211616,-0.4280989805383191,-0.5394723820222873,-0.5116993530128614,0.10188226037270086,-0.32587427693499044,-0.7861214213231291,-0.2991238550717329,-0.11899283804814767,-0.7970922214303395,0.2503567657788044,0.41676425840006154,0.22449670440757763,0.4666018431977868,-0.3835966042845009,-0.79364365430166,0.044693841525323096,0.32279095948229436,0.16403933446220195,0.7653740853859079,0.3636656854179049,-0.2922038271497707,-0.44798162966186333,-0.6721889481669568,-0.31048952202719377,0.5224674506962095,-0.37177148407334354,-0.6093300850493374,-0.4824456919441202,0.4481446328999001,0.4549077225175419,-0.29287626746487405,0.0018101001506988668,0.6338240811712834,-0.3249926412609628,0.2542016205520685,-0.11861293342733155,-0.16530900784070113,0.9812109661471581,0.8797032355058308,-0.30888771509304275],\"type\":\"scatter\",\"xaxis\":\"x\",\"yaxis\":\"y\"}],                        {\"template\":{\"data\":{\"histogram2dcontour\":[{\"type\":\"histogram2dcontour\",\"colorbar\":{\"outlinewidth\":0,\"ticks\":\"\"},\"colorscale\":[[0.0,\"#0d0887\"],[0.1111111111111111,\"#46039f\"],[0.2222222222222222,\"#7201a8\"],[0.3333333333333333,\"#9c179e\"],[0.4444444444444444,\"#bd3786\"],[0.5555555555555556,\"#d8576b\"],[0.6666666666666666,\"#ed7953\"],[0.7777777777777778,\"#fb9f3a\"],[0.8888888888888888,\"#fdca26\"],[1.0,\"#f0f921\"]]}],\"choropleth\":[{\"type\":\"choropleth\",\"colorbar\":{\"outlinewidth\":0,\"ticks\":\"\"}}],\"histogram2d\":[{\"type\":\"histogram2d\",\"colorbar\":{\"outlinewidth\":0,\"ticks\":\"\"},\"colorscale\":[[0.0,\"#0d0887\"],[0.1111111111111111,\"#46039f\"],[0.2222222222222222,\"#7201a8\"],[0.3333333333333333,\"#9c179e\"],[0.4444444444444444,\"#bd3786\"],[0.5555555555555556,\"#d8576b\"],[0.6666666666666666,\"#ed7953\"],[0.7777777777777778,\"#fb9f3a\"],[0.8888888888888888,\"#fdca26\"],[1.0,\"#f0f921\"]]}],\"heatmap\":[{\"type\":\"heatmap\",\"colorbar\":{\"outlinewidth\":0,\"ticks\":\"\"},\"colorscale\":[[0.0,\"#0d0887\"],[0.1111111111111111,\"#46039f\"],[0.2222222222222222,\"#7201a8\"],[0.3333333333333333,\"#9c179e\"],[0.4444444444444444,\"#bd3786\"],[0.5555555555555556,\"#d8576b\"],[0.6666666666666666,\"#ed7953\"],[0.7777777777777778,\"#fb9f3a\"],[0.8888888888888888,\"#fdca26\"],[1.0,\"#f0f921\"]]}],\"heatmapgl\":[{\"type\":\"heatmapgl\",\"colorbar\":{\"outlinewidth\":0,\"ticks\":\"\"},\"colorscale\":[[0.0,\"#0d0887\"],[0.1111111111111111,\"#46039f\"],[0.2222222222222222,\"#7201a8\"],[0.3333333333333333,\"#9c179e\"],[0.4444444444444444,\"#bd3786\"],[0.5555555555555556,\"#d8576b\"],[0.6666666666666666,\"#ed7953\"],[0.7777777777777778,\"#fb9f3a\"],[0.8888888888888888,\"#fdca26\"],[1.0,\"#f0f921\"]]}],\"contourcarpet\":[{\"type\":\"contourcarpet\",\"colorbar\":{\"outlinewidth\":0,\"ticks\":\"\"}}],\"contour\":[{\"type\":\"contour\",\"colorbar\":{\"outlinewidth\":0,\"ticks\":\"\"},\"colorscale\":[[0.0,\"#0d0887\"],[0.1111111111111111,\"#46039f\"],[0.2222222222222222,\"#7201a8\"],[0.3333333333333333,\"#9c179e\"],[0.4444444444444444,\"#bd3786\"],[0.5555555555555556,\"#d8576b\"],[0.6666666666666666,\"#ed7953\"],[0.7777777777777778,\"#fb9f3a\"],[0.8888888888888888,\"#fdca26\"],[1.0,\"#f0f921\"]]}],\"surface\":[{\"type\":\"surface\",\"colorbar\":{\"outlinewidth\":0,\"ticks\":\"\"},\"colorscale\":[[0.0,\"#0d0887\"],[0.1111111111111111,\"#46039f\"],[0.2222222222222222,\"#7201a8\"],[0.3333333333333333,\"#9c179e\"],[0.4444444444444444,\"#bd3786\"],[0.5555555555555556,\"#d8576b\"],[0.6666666666666666,\"#ed7953\"],[0.7777777777777778,\"#fb9f3a\"],[0.8888888888888888,\"#fdca26\"],[1.0,\"#f0f921\"]]}],\"mesh3d\":[{\"type\":\"mesh3d\",\"colorbar\":{\"outlinewidth\":0,\"ticks\":\"\"}}],\"scatter\":[{\"fillpattern\":{\"fillmode\":\"overlay\",\"size\":10,\"solidity\":0.2},\"type\":\"scatter\"}],\"parcoords\":[{\"type\":\"parcoords\",\"line\":{\"colorbar\":{\"outlinewidth\":0,\"ticks\":\"\"}}}],\"scatterpolargl\":[{\"type\":\"scatterpolargl\",\"marker\":{\"colorbar\":{\"outlinewidth\":0,\"ticks\":\"\"}}}],\"bar\":[{\"error_x\":{\"color\":\"#2a3f5f\"},\"error_y\":{\"color\":\"#2a3f5f\"},\"marker\":{\"line\":{\"color\":\"#E5ECF6\",\"width\":0.5},\"pattern\":{\"fillmode\":\"overlay\",\"size\":10,\"solidity\":0.2}},\"type\":\"bar\"}],\"scattergeo\":[{\"type\":\"scattergeo\",\"marker\":{\"colorbar\":{\"outlinewidth\":0,\"ticks\":\"\"}}}],\"scatterpolar\":[{\"type\":\"scatterpolar\",\"marker\":{\"colorbar\":{\"outlinewidth\":0,\"ticks\":\"\"}}}],\"histogram\":[{\"marker\":{\"pattern\":{\"fillmode\":\"overlay\",\"size\":10,\"solidity\":0.2}},\"type\":\"histogram\"}],\"scattergl\":[{\"type\":\"scattergl\",\"marker\":{\"colorbar\":{\"outlinewidth\":0,\"ticks\":\"\"}}}],\"scatter3d\":[{\"type\":\"scatter3d\",\"line\":{\"colorbar\":{\"outlinewidth\":0,\"ticks\":\"\"}},\"marker\":{\"colorbar\":{\"outlinewidth\":0,\"ticks\":\"\"}}}],\"scattermapbox\":[{\"type\":\"scattermapbox\",\"marker\":{\"colorbar\":{\"outlinewidth\":0,\"ticks\":\"\"}}}],\"scatterternary\":[{\"type\":\"scatterternary\",\"marker\":{\"colorbar\":{\"outlinewidth\":0,\"ticks\":\"\"}}}],\"scattercarpet\":[{\"type\":\"scattercarpet\",\"marker\":{\"colorbar\":{\"outlinewidth\":0,\"ticks\":\"\"}}}],\"carpet\":[{\"aaxis\":{\"endlinecolor\":\"#2a3f5f\",\"gridcolor\":\"white\",\"linecolor\":\"white\",\"minorgridcolor\":\"white\",\"startlinecolor\":\"#2a3f5f\"},\"baxis\":{\"endlinecolor\":\"#2a3f5f\",\"gridcolor\":\"white\",\"linecolor\":\"white\",\"minorgridcolor\":\"white\",\"startlinecolor\":\"#2a3f5f\"},\"type\":\"carpet\"}],\"table\":[{\"cells\":{\"fill\":{\"color\":\"#EBF0F8\"},\"line\":{\"color\":\"white\"}},\"header\":{\"fill\":{\"color\":\"#C8D4E3\"},\"line\":{\"color\":\"white\"}},\"type\":\"table\"}],\"barpolar\":[{\"marker\":{\"line\":{\"color\":\"#E5ECF6\",\"width\":0.5},\"pattern\":{\"fillmode\":\"overlay\",\"size\":10,\"solidity\":0.2}},\"type\":\"barpolar\"}],\"pie\":[{\"automargin\":true,\"type\":\"pie\"}]},\"layout\":{\"autotypenumbers\":\"strict\",\"colorway\":[\"#636efa\",\"#EF553B\",\"#00cc96\",\"#ab63fa\",\"#FFA15A\",\"#19d3f3\",\"#FF6692\",\"#B6E880\",\"#FF97FF\",\"#FECB52\"],\"font\":{\"color\":\"#2a3f5f\"},\"hovermode\":\"closest\",\"hoverlabel\":{\"align\":\"left\"},\"paper_bgcolor\":\"white\",\"plot_bgcolor\":\"#E5ECF6\",\"polar\":{\"bgcolor\":\"#E5ECF6\",\"angularaxis\":{\"gridcolor\":\"white\",\"linecolor\":\"white\",\"ticks\":\"\"},\"radialaxis\":{\"gridcolor\":\"white\",\"linecolor\":\"white\",\"ticks\":\"\"}},\"ternary\":{\"bgcolor\":\"#E5ECF6\",\"aaxis\":{\"gridcolor\":\"white\",\"linecolor\":\"white\",\"ticks\":\"\"},\"baxis\":{\"gridcolor\":\"white\",\"linecolor\":\"white\",\"ticks\":\"\"},\"caxis\":{\"gridcolor\":\"white\",\"linecolor\":\"white\",\"ticks\":\"\"}},\"coloraxis\":{\"colorbar\":{\"outlinewidth\":0,\"ticks\":\"\"}},\"colorscale\":{\"sequential\":[[0.0,\"#0d0887\"],[0.1111111111111111,\"#46039f\"],[0.2222222222222222,\"#7201a8\"],[0.3333333333333333,\"#9c179e\"],[0.4444444444444444,\"#bd3786\"],[0.5555555555555556,\"#d8576b\"],[0.6666666666666666,\"#ed7953\"],[0.7777777777777778,\"#fb9f3a\"],[0.8888888888888888,\"#fdca26\"],[1.0,\"#f0f921\"]],\"sequentialminus\":[[0.0,\"#0d0887\"],[0.1111111111111111,\"#46039f\"],[0.2222222222222222,\"#7201a8\"],[0.3333333333333333,\"#9c179e\"],[0.4444444444444444,\"#bd3786\"],[0.5555555555555556,\"#d8576b\"],[0.6666666666666666,\"#ed7953\"],[0.7777777777777778,\"#fb9f3a\"],[0.8888888888888888,\"#fdca26\"],[1.0,\"#f0f921\"]],\"diverging\":[[0,\"#8e0152\"],[0.1,\"#c51b7d\"],[0.2,\"#de77ae\"],[0.3,\"#f1b6da\"],[0.4,\"#fde0ef\"],[0.5,\"#f7f7f7\"],[0.6,\"#e6f5d0\"],[0.7,\"#b8e186\"],[0.8,\"#7fbc41\"],[0.9,\"#4d9221\"],[1,\"#276419\"]]},\"xaxis\":{\"gridcolor\":\"white\",\"linecolor\":\"white\",\"ticks\":\"\",\"title\":{\"standoff\":15},\"zerolinecolor\":\"white\",\"automargin\":true,\"zerolinewidth\":2},\"yaxis\":{\"gridcolor\":\"white\",\"linecolor\":\"white\",\"ticks\":\"\",\"title\":{\"standoff\":15},\"zerolinecolor\":\"white\",\"automargin\":true,\"zerolinewidth\":2},\"scene\":{\"xaxis\":{\"backgroundcolor\":\"#E5ECF6\",\"gridcolor\":\"white\",\"linecolor\":\"white\",\"showbackground\":true,\"ticks\":\"\",\"zerolinecolor\":\"white\",\"gridwidth\":2},\"yaxis\":{\"backgroundcolor\":\"#E5ECF6\",\"gridcolor\":\"white\",\"linecolor\":\"white\",\"showbackground\":true,\"ticks\":\"\",\"zerolinecolor\":\"white\",\"gridwidth\":2},\"zaxis\":{\"backgroundcolor\":\"#E5ECF6\",\"gridcolor\":\"white\",\"linecolor\":\"white\",\"showbackground\":true,\"ticks\":\"\",\"zerolinecolor\":\"white\",\"gridwidth\":2}},\"shapedefaults\":{\"line\":{\"color\":\"#2a3f5f\"}},\"annotationdefaults\":{\"arrowcolor\":\"#2a3f5f\",\"arrowhead\":0,\"arrowwidth\":1},\"geo\":{\"bgcolor\":\"white\",\"landcolor\":\"#E5ECF6\",\"subunitcolor\":\"white\",\"showland\":true,\"showlakes\":true,\"lakecolor\":\"white\"},\"title\":{\"x\":0.05},\"mapbox\":{\"style\":\"light\"}}},\"scene\":{\"domain\":{\"x\":[0.0,0.45],\"y\":[0.0,1.0]},\"xaxis\":{\"range\":[-1.5,1.5],\"showgrid\":false,\"title\":{\"text\":\"x1\"}},\"yaxis\":{\"range\":[-1.5,1.5],\"showgrid\":false,\"title\":{\"text\":\"x2\"}},\"zaxis\":{\"range\":[-1.5,1.5],\"showgrid\":false,\"title\":{\"text\":\"x3\"}}},\"xaxis\":{\"anchor\":\"y\",\"domain\":[0.55,1.0]},\"yaxis\":{\"anchor\":\"x\",\"domain\":[0.0,1.0]},\"yaxis2\":{\"title\":{\"text\":\"test\"},\"visible\":true}},                        {\"responsive\": true}                    ).then(function(){\n",
       "                            \n",
       "var gd = document.getElementById('b2111802-2953-4671-82e4-58c9f733cf27');\n",
       "var x = new MutationObserver(function (mutations, observer) {{\n",
       "        var display = window.getComputedStyle(gd).display;\n",
       "        if (!display || display === 'none') {{\n",
       "            console.log([gd, 'removed!']);\n",
       "            Plotly.purge(gd);\n",
       "            observer.disconnect();\n",
       "        }}\n",
       "}});\n",
       "\n",
       "// Listen for the removal of the full notebook cells\n",
       "var notebookContainer = gd.closest('#notebook-container');\n",
       "if (notebookContainer) {{\n",
       "    x.observe(notebookContainer, {childList: true});\n",
       "}}\n",
       "\n",
       "// Listen for the clearing of the current output cell\n",
       "var outputEl = gd.closest('.output');\n",
       "if (outputEl) {{\n",
       "    x.observe(outputEl, {childList: true});\n",
       "}}\n",
       "\n",
       "                        })                };                });            </script>        </div>"
      ]
     },
     "metadata": {},
     "output_type": "display_data"
    }
   ],
   "source": [
    "deb.update_layout(yaxis2 = dict(title_text = 'test', visible=True))"
   ]
  },
  {
   "cell_type": "markdown",
   "id": "2bd6577b",
   "metadata": {},
   "source": [
    "## Using PCA in Exploratory Data Analysis"
   ]
  },
  {
   "cell_type": "markdown",
   "id": "aa3c3ca7",
   "metadata": {},
   "source": [
    "Let's load a toy dataset with $500$ samples and $1000$ features."
   ]
  },
  {
   "cell_type": "code",
   "execution_count": 27,
   "id": "8b2dad2b",
   "metadata": {},
   "outputs": [],
   "source": [
    "df = pd.read_csv(\"toy_dataset.csv\")"
   ]
  },
  {
   "cell_type": "code",
   "execution_count": 28,
   "id": "7a398b9d",
   "metadata": {},
   "outputs": [
    {
     "data": {
      "text/html": [
       "<div>\n",
       "<style scoped>\n",
       "    .dataframe tbody tr th:only-of-type {\n",
       "        vertical-align: middle;\n",
       "    }\n",
       "\n",
       "    .dataframe tbody tr th {\n",
       "        vertical-align: top;\n",
       "    }\n",
       "\n",
       "    .dataframe thead th {\n",
       "        text-align: right;\n",
       "    }\n",
       "</style>\n",
       "<table border=\"1\" class=\"dataframe\">\n",
       "  <thead>\n",
       "    <tr style=\"text-align: right;\">\n",
       "      <th></th>\n",
       "      <th>feature_0</th>\n",
       "      <th>feature_1</th>\n",
       "      <th>feature_2</th>\n",
       "      <th>feature_3</th>\n",
       "      <th>feature_4</th>\n",
       "      <th>feature_5</th>\n",
       "      <th>feature_6</th>\n",
       "      <th>feature_7</th>\n",
       "      <th>feature_8</th>\n",
       "      <th>feature_9</th>\n",
       "      <th>...</th>\n",
       "      <th>feature_990</th>\n",
       "      <th>feature_991</th>\n",
       "      <th>feature_992</th>\n",
       "      <th>feature_993</th>\n",
       "      <th>feature_994</th>\n",
       "      <th>feature_995</th>\n",
       "      <th>feature_996</th>\n",
       "      <th>feature_997</th>\n",
       "      <th>feature_998</th>\n",
       "      <th>feature_999</th>\n",
       "    </tr>\n",
       "  </thead>\n",
       "  <tbody>\n",
       "    <tr>\n",
       "      <th>0</th>\n",
       "      <td>27.422157</td>\n",
       "      <td>-29.662712</td>\n",
       "      <td>-23.297163</td>\n",
       "      <td>-15.161935</td>\n",
       "      <td>0.345581</td>\n",
       "      <td>3.706750</td>\n",
       "      <td>-5.507209</td>\n",
       "      <td>-46.992476</td>\n",
       "      <td>5.175469</td>\n",
       "      <td>-47.768145</td>\n",
       "      <td>...</td>\n",
       "      <td>7.815960</td>\n",
       "      <td>24.320965</td>\n",
       "      <td>-33.987522</td>\n",
       "      <td>22.306088</td>\n",
       "      <td>31.173511</td>\n",
       "      <td>31.264830</td>\n",
       "      <td>8.380699</td>\n",
       "      <td>-25.843189</td>\n",
       "      <td>36.706408</td>\n",
       "      <td>-43.480792</td>\n",
       "    </tr>\n",
       "    <tr>\n",
       "      <th>1</th>\n",
       "      <td>3.489482</td>\n",
       "      <td>-19.153551</td>\n",
       "      <td>-14.636424</td>\n",
       "      <td>14.688258</td>\n",
       "      <td>20.114204</td>\n",
       "      <td>13.532852</td>\n",
       "      <td>34.298084</td>\n",
       "      <td>22.982509</td>\n",
       "      <td>37.938670</td>\n",
       "      <td>-35.648144</td>\n",
       "      <td>...</td>\n",
       "      <td>11.145527</td>\n",
       "      <td>-38.886603</td>\n",
       "      <td>44.579337</td>\n",
       "      <td>37.308519</td>\n",
       "      <td>29.560535</td>\n",
       "      <td>-10.643331</td>\n",
       "      <td>-6.499263</td>\n",
       "      <td>19.921666</td>\n",
       "      <td>-3.528982</td>\n",
       "      <td>31.068739</td>\n",
       "    </tr>\n",
       "    <tr>\n",
       "      <th>2</th>\n",
       "      <td>4.293509</td>\n",
       "      <td>22.691579</td>\n",
       "      <td>-1.045155</td>\n",
       "      <td>-8.740350</td>\n",
       "      <td>12.401082</td>\n",
       "      <td>31.362987</td>\n",
       "      <td>-18.831206</td>\n",
       "      <td>-35.384557</td>\n",
       "      <td>8.161430</td>\n",
       "      <td>-16.421762</td>\n",
       "      <td>...</td>\n",
       "      <td>48.190331</td>\n",
       "      <td>-0.503157</td>\n",
       "      <td>-21.740678</td>\n",
       "      <td>15.972237</td>\n",
       "      <td>1.122335</td>\n",
       "      <td>-45.473538</td>\n",
       "      <td>10.518065</td>\n",
       "      <td>-5.818320</td>\n",
       "      <td>-29.466301</td>\n",
       "      <td>-13.676685</td>\n",
       "    </tr>\n",
       "    <tr>\n",
       "      <th>3</th>\n",
       "      <td>-2.139348</td>\n",
       "      <td>23.158754</td>\n",
       "      <td>-26.241206</td>\n",
       "      <td>19.426465</td>\n",
       "      <td>9.472049</td>\n",
       "      <td>8.453948</td>\n",
       "      <td>0.637211</td>\n",
       "      <td>-26.675984</td>\n",
       "      <td>-43.823329</td>\n",
       "      <td>11.840874</td>\n",
       "      <td>...</td>\n",
       "      <td>-51.613076</td>\n",
       "      <td>13.278858</td>\n",
       "      <td>-44.179281</td>\n",
       "      <td>32.912282</td>\n",
       "      <td>4.805774</td>\n",
       "      <td>3.960836</td>\n",
       "      <td>-15.888356</td>\n",
       "      <td>61.384773</td>\n",
       "      <td>33.112334</td>\n",
       "      <td>5.088320</td>\n",
       "    </tr>\n",
       "    <tr>\n",
       "      <th>4</th>\n",
       "      <td>-35.251034</td>\n",
       "      <td>27.281816</td>\n",
       "      <td>-29.470282</td>\n",
       "      <td>-21.786865</td>\n",
       "      <td>11.806822</td>\n",
       "      <td>58.655133</td>\n",
       "      <td>5.375230</td>\n",
       "      <td>59.740676</td>\n",
       "      <td>-49.007717</td>\n",
       "      <td>-21.801155</td>\n",
       "      <td>...</td>\n",
       "      <td>0.010857</td>\n",
       "      <td>20.975655</td>\n",
       "      <td>-21.358371</td>\n",
       "      <td>18.709369</td>\n",
       "      <td>22.362477</td>\n",
       "      <td>41.214565</td>\n",
       "      <td>-7.217724</td>\n",
       "      <td>31.173870</td>\n",
       "      <td>37.097532</td>\n",
       "      <td>-27.509420</td>\n",
       "    </tr>\n",
       "  </tbody>\n",
       "</table>\n",
       "<p>5 rows × 1000 columns</p>\n",
       "</div>"
      ],
      "text/plain": [
       "   feature_0  feature_1  feature_2  feature_3  feature_4  feature_5  \\\n",
       "0  27.422157 -29.662712 -23.297163 -15.161935   0.345581   3.706750   \n",
       "1   3.489482 -19.153551 -14.636424  14.688258  20.114204  13.532852   \n",
       "2   4.293509  22.691579  -1.045155  -8.740350  12.401082  31.362987   \n",
       "3  -2.139348  23.158754 -26.241206  19.426465   9.472049   8.453948   \n",
       "4 -35.251034  27.281816 -29.470282 -21.786865  11.806822  58.655133   \n",
       "\n",
       "   feature_6  feature_7  feature_8  feature_9  ...  feature_990  feature_991  \\\n",
       "0  -5.507209 -46.992476   5.175469 -47.768145  ...     7.815960    24.320965   \n",
       "1  34.298084  22.982509  37.938670 -35.648144  ...    11.145527   -38.886603   \n",
       "2 -18.831206 -35.384557   8.161430 -16.421762  ...    48.190331    -0.503157   \n",
       "3   0.637211 -26.675984 -43.823329  11.840874  ...   -51.613076    13.278858   \n",
       "4   5.375230  59.740676 -49.007717 -21.801155  ...     0.010857    20.975655   \n",
       "\n",
       "   feature_992  feature_993  feature_994  feature_995  feature_996  \\\n",
       "0   -33.987522    22.306088    31.173511    31.264830     8.380699   \n",
       "1    44.579337    37.308519    29.560535   -10.643331    -6.499263   \n",
       "2   -21.740678    15.972237     1.122335   -45.473538    10.518065   \n",
       "3   -44.179281    32.912282     4.805774     3.960836   -15.888356   \n",
       "4   -21.358371    18.709369    22.362477    41.214565    -7.217724   \n",
       "\n",
       "   feature_997  feature_998  feature_999  \n",
       "0   -25.843189    36.706408   -43.480792  \n",
       "1    19.921666    -3.528982    31.068739  \n",
       "2    -5.818320   -29.466301   -13.676685  \n",
       "3    61.384773    33.112334     5.088320  \n",
       "4    31.173870    37.097532   -27.509420  \n",
       "\n",
       "[5 rows x 1000 columns]"
      ]
     },
     "execution_count": 28,
     "metadata": {},
     "output_type": "execute_result"
    }
   ],
   "source": [
    "df.head()"
   ]
  },
  {
   "cell_type": "markdown",
   "id": "596e20fc",
   "metadata": {},
   "source": [
    "This is a dataset with $1000$ features.\n",
    "\n",
    "Let's try to see if there is a pattern in the data. The following function will randomly sample 100 pairwise tuples (x,y) of features, so we can scatter-plot them.\n"
   ]
  },
  {
   "cell_type": "code",
   "execution_count": 29,
   "id": "14f8184c",
   "metadata": {},
   "outputs": [],
   "source": [
    "def get_pairs(n = 100):\n",
    "    from random import randint\n",
    "    i = 0\n",
    "    tuples = []\n",
    "    while i < 100:\n",
    "        x = df.columns[randint(0,999)]\n",
    "        y = df.columns[randint(0,999)]\n",
    "        while x == y or (x,y) in tuples or (y,x) in tuples:\n",
    "            y = df.columns[randint(0,999)]\n",
    "        tuples.append((x,y))\n",
    "        i+=1\n",
    "    return tuples\n",
    "            "
   ]
  },
  {
   "cell_type": "code",
   "execution_count": 30,
   "id": "24a795e3",
   "metadata": {},
   "outputs": [],
   "source": [
    "pairs = get_pairs()"
   ]
  },
  {
   "cell_type": "markdown",
   "id": "334f7d4c",
   "metadata": {},
   "source": [
    "Now let's plot them!"
   ]
  },
  {
   "cell_type": "code",
   "execution_count": 31,
   "id": "e6c3bdf6",
   "metadata": {},
   "outputs": [],
   "source": [
    "fig, axs = plt.subplots(10,10, figsize = (35,35))\n",
    "i = 0\n",
    "for rows in axs:\n",
    "    for ax in rows:\n",
    "        ax.scatter(df[pairs[i][0]],df[pairs[i][1]], color = \"#C00000\")\n",
    "        ax.set_xlabel(pairs[i][0])\n",
    "        ax.set_ylabel(pairs[i][1])\n",
    "        i+=1"
   ]
  },
  {
   "cell_type": "markdown",
   "id": "e45a6ce6",
   "metadata": {},
   "source": [
    "It looks like there is not much information hidden in pairwise features. Also, it is not possible to check every combination, due to the amount of features. Let's try to see the linear correlation between them."
   ]
  },
  {
   "cell_type": "code",
   "execution_count": null,
   "id": "6b1eb839",
   "metadata": {},
   "outputs": [],
   "source": [
    "# This may take 1 minute to run\n",
    "corr = df.corr()"
   ]
  },
  {
   "cell_type": "code",
   "execution_count": null,
   "id": "a93d51d7",
   "metadata": {},
   "outputs": [],
   "source": [
    "## This will show all the features that have correlation > 0.5 in absolute value. We remove the features \n",
    "## with correlation == 1 to remove the correlation of a feature with itself\n",
    "\n",
    "mask = (abs(corr) > 0.5) & (abs(corr) != 1)\n",
    "corr.where(mask).stack().sort_values()"
   ]
  },
  {
   "cell_type": "markdown",
   "id": "f253dac7",
   "metadata": {},
   "source": [
    "The maximum and minimum correlation is around $0.631$ - $0.632$. This does not show too much as well. "
   ]
  },
  {
   "cell_type": "markdown",
   "id": "9928258f",
   "metadata": {},
   "source": [
    "Let's try PCA decomposition to compress our data into a 2-dimensional subspace (plane) so we can plot it as scatter plot. "
   ]
  },
  {
   "cell_type": "code",
   "execution_count": null,
   "id": "d7792253",
   "metadata": {},
   "outputs": [],
   "source": [
    "# Loading the PCA object\n",
    "pca = PCA(n_components = 2) # Here we choose the number of components that we will keep.\n",
    "X_pca = pca.fit_transform(df)\n",
    "df_pca = pd.DataFrame(X_pca, columns = ['principal_component_1','principal_component_2'])"
   ]
  },
  {
   "cell_type": "code",
   "execution_count": null,
   "id": "03ed2662",
   "metadata": {},
   "outputs": [],
   "source": [
    "df_pca.head()"
   ]
  },
  {
   "cell_type": "code",
   "execution_count": null,
   "id": "6e584372",
   "metadata": {},
   "outputs": [],
   "source": [
    "plt.scatter(df_pca['principal_component_1'],df_pca['principal_component_2'], color = \"#C00000\")\n",
    "plt.xlabel('principal_component_1')\n",
    "plt.ylabel('principal_component_2')\n",
    "plt.title('PCA decomposition')"
   ]
  },
  {
   "cell_type": "markdown",
   "id": "c9def66f",
   "metadata": {},
   "source": [
    "This is great! We can see well defined clusters. "
   ]
  },
  {
   "cell_type": "code",
   "execution_count": null,
   "id": "aa48c38a",
   "metadata": {},
   "outputs": [],
   "source": [
    "# pca.explained_variance_ration_ returns a list where it shows the amount of variance explained by each principal component.\n",
    "sum(pca.explained_variance_ratio_)"
   ]
  },
  {
   "cell_type": "markdown",
   "id": "5324318d",
   "metadata": {},
   "source": [
    "And we preserved only around 14.6% of the variance!"
   ]
  },
  {
   "cell_type": "markdown",
   "id": "80a4be26",
   "metadata": {},
   "source": [
    "Quite impressive! We can clearly see clusters in our data, something that we could not see before. How many clusters can you spot? 8, 10? \n",
    "\n",
    "If we run a PCA to plot 3 dimensions, we will get more information from data.\n"
   ]
  },
  {
   "cell_type": "code",
   "execution_count": null,
   "id": "f3e49e3d",
   "metadata": {},
   "outputs": [],
   "source": [
    "pca_3 = PCA(n_components = 3).fit(df)\n",
    "X_t = pca_3.transform(df)\n",
    "df_pca_3 = pd.DataFrame(X_t,columns = ['principal_component_1','principal_component_2','principal_component_3'])"
   ]
  },
  {
   "cell_type": "code",
   "execution_count": null,
   "id": "428ca989",
   "metadata": {},
   "outputs": [],
   "source": [
    "import plotly.express as px"
   ]
  },
  {
   "cell_type": "code",
   "execution_count": null,
   "id": "fb1a8376",
   "metadata": {},
   "outputs": [],
   "source": [
    "fig = px.scatter_3d(df_pca_3, x = 'principal_component_1', y = 'principal_component_2', z = 'principal_component_3').update_traces(marker = dict(color = \"#C00000\"))\n",
    "fig.show()"
   ]
  },
  {
   "cell_type": "code",
   "execution_count": null,
   "id": "befb75a7",
   "metadata": {},
   "outputs": [],
   "source": [
    "sum(pca_3.explained_variance_ratio_)"
   ]
  },
  {
   "cell_type": "markdown",
   "id": "dae3a319",
   "metadata": {},
   "source": [
    "Now we preserved 19% of the variance and we can clearly see 10 clusters.\n",
    "\n",
    "Congratulations on finishing this notebook!"
   ]
  }
 ],
 "metadata": {
  "kernelspec": {
   "display_name": "Python 3 (ipykernel)",
   "language": "python",
   "name": "python3"
  },
  "language_info": {
   "codemirror_mode": {
    "name": "ipython",
    "version": 3
   },
   "file_extension": ".py",
   "mimetype": "text/x-python",
   "name": "python",
   "nbconvert_exporter": "python",
   "pygments_lexer": "ipython3",
   "version": "3.7.6"
  }
 },
 "nbformat": 4,
 "nbformat_minor": 5
}
